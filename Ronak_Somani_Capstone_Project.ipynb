{
 "cells": [
  {
   "cell_type": "markdown",
   "metadata": {},
   "source": [
    "### Aim: The dataset is hosted by city of Los Angeles named as \"Metro Bike Share Trip Data\". I will be analyzing the use of metro bikes in order to build a bike network that really works."
   ]
  },
  {
   "cell_type": "markdown",
   "metadata": {},
   "source": [
    "# Introduction\n",
    "This dataset is a catalogue of rides taken on the LA-Metro Bike Share Network.The Metro Bike Share system makes bikes available 24/7, 365 days a year in Downtown LA, Central LA, Port of LA and the Westside. Metro Bike Share offers convenient round-the-clock access to a fleet of bicycles for short trips. Metro Bike Share is one of LA Metro's multiple public transportation options for Angelenos and visitors to get around.\n",
    "\n",
    "Feature descriptions from https://bikeshare.metro.net/about/data/\n",
    "\n",
    "* trip_id: Locally unique integer that identifies the trip\n",
    "\n",
    "* duration: Length of trip in seconds\n",
    "\n",
    "* start_time: The date/time when the trip began, presented in ISO 8601 format in local time\n",
    "\n",
    "* end_time: The date/time when the trip ended, presented in ISO 8601 format in local time\n",
    "\n",
    "* start_station: The station ID where the trip originated\n",
    "\n",
    "* start_lat: The latitude of the station where the trip originated\n",
    "\n",
    "* start_lon: The longitude of the station where the trip originated\n",
    "\n",
    "* end_station: The station ID where the trip terminated\n",
    "\n",
    "* end_lat: The latitude of the station where the trip terminated\n",
    "\n",
    "* end_lon: The longitude of the station where the trip terminated\n",
    "\n",
    "* bike_id: Locally unique integer that identifies the bike\n",
    "\n",
    "* plan_duration: The number of days that the plan the passholder is using entitles them to ride; 0 is used for a single ride plan (Walk-up)\n",
    "\n",
    "* trip_route_category: \"Round Trip\" for trips starting and ending at the same station or \"One Way\" for all other trips\n",
    "\n",
    "* passholder_type: The name of the passholder's plan\n",
    "\n",
    "Other features are not officially described by Metro Bike Share\n",
    "\n",
    "Remaining features appear to be LA geographic information which i think is not relevant to my analysis, many of which include large amounts of missing data. So i have dropped those columns."
   ]
  },
  {
   "cell_type": "code",
   "execution_count": 29,
   "metadata": {},
   "outputs": [
    {
     "name": "stdout",
     "output_type": "stream",
     "text": [
      "/bin/sh: pip: command not found\r\n"
     ]
    }
   ],
   "source": [
    "!pip install folium"
   ]
  },
  {
   "cell_type": "code",
   "execution_count": 30,
   "metadata": {},
   "outputs": [],
   "source": [
    "import pandas as pd\n",
    "import folium\n",
    "import matplotlib.pyplot as plt\n",
    "import seaborn as sns\n",
    "%matplotlib inline\n",
    "from Ronak_Somani_Capstone_Project_Code import distance_on_unit_sphere\n",
    "from Ronak_Somani_Capstone_Project_Code import modeling_techniques_and_prediction"
   ]
  },
  {
   "cell_type": "markdown",
   "metadata": {},
   "source": [
    "# Data Extraction"
   ]
  },
  {
   "cell_type": "code",
   "execution_count": 31,
   "metadata": {},
   "outputs": [
    {
     "data": {
      "text/html": [
       "<div>\n",
       "<style scoped>\n",
       "    .dataframe tbody tr th:only-of-type {\n",
       "        vertical-align: middle;\n",
       "    }\n",
       "\n",
       "    .dataframe tbody tr th {\n",
       "        vertical-align: top;\n",
       "    }\n",
       "\n",
       "    .dataframe thead th {\n",
       "        text-align: right;\n",
       "    }\n",
       "</style>\n",
       "<table border=\"1\" class=\"dataframe\">\n",
       "  <thead>\n",
       "    <tr style=\"text-align: right;\">\n",
       "      <th></th>\n",
       "      <th>Trip ID</th>\n",
       "      <th>Duration</th>\n",
       "      <th>Start Time</th>\n",
       "      <th>End Time</th>\n",
       "      <th>Starting Station ID</th>\n",
       "      <th>Starting Station Latitude</th>\n",
       "      <th>Starting Station Longitude</th>\n",
       "      <th>Ending Station ID</th>\n",
       "      <th>Ending Station Latitude</th>\n",
       "      <th>Ending Station Longitude</th>\n",
       "      <th>...</th>\n",
       "      <th>Trip Route Category</th>\n",
       "      <th>Passholder Type</th>\n",
       "      <th>Starting Lat-Long</th>\n",
       "      <th>Ending Lat-Long</th>\n",
       "      <th>Neighborhood Councils (Certified)</th>\n",
       "      <th>Council Districts</th>\n",
       "      <th>Zip Codes</th>\n",
       "      <th>LA Specific Plans</th>\n",
       "      <th>Precinct Boundaries</th>\n",
       "      <th>Census Tracts</th>\n",
       "    </tr>\n",
       "  </thead>\n",
       "  <tbody>\n",
       "    <tr>\n",
       "      <th>0</th>\n",
       "      <td>18222186</td>\n",
       "      <td>15060</td>\n",
       "      <td>2017-01-19T17:05:00.000</td>\n",
       "      <td>2017-01-19T21:16:00.000</td>\n",
       "      <td>3031.0</td>\n",
       "      <td>34.044701</td>\n",
       "      <td>-118.252441</td>\n",
       "      <td>3000.0</td>\n",
       "      <td>NaN</td>\n",
       "      <td>NaN</td>\n",
       "      <td>...</td>\n",
       "      <td>One Way</td>\n",
       "      <td>Walk-up</td>\n",
       "      <td>NaN</td>\n",
       "      <td>NaN</td>\n",
       "      <td>NaN</td>\n",
       "      <td>NaN</td>\n",
       "      <td>NaN</td>\n",
       "      <td>NaN</td>\n",
       "      <td>NaN</td>\n",
       "      <td>NaN</td>\n",
       "    </tr>\n",
       "    <tr>\n",
       "      <th>1</th>\n",
       "      <td>9518671</td>\n",
       "      <td>77160</td>\n",
       "      <td>2016-10-09T14:37:00.000</td>\n",
       "      <td>2016-10-10T12:03:00.000</td>\n",
       "      <td>NaN</td>\n",
       "      <td>NaN</td>\n",
       "      <td>NaN</td>\n",
       "      <td>3000.0</td>\n",
       "      <td>NaN</td>\n",
       "      <td>NaN</td>\n",
       "      <td>...</td>\n",
       "      <td>One Way</td>\n",
       "      <td>Monthly Pass</td>\n",
       "      <td>NaN</td>\n",
       "      <td>NaN</td>\n",
       "      <td>NaN</td>\n",
       "      <td>NaN</td>\n",
       "      <td>NaN</td>\n",
       "      <td>NaN</td>\n",
       "      <td>NaN</td>\n",
       "      <td>NaN</td>\n",
       "    </tr>\n",
       "    <tr>\n",
       "      <th>2</th>\n",
       "      <td>20444932</td>\n",
       "      <td>86400</td>\n",
       "      <td>2017-02-18T10:15:00.000</td>\n",
       "      <td>2017-02-20T15:20:00.000</td>\n",
       "      <td>3026.0</td>\n",
       "      <td>34.063179</td>\n",
       "      <td>-118.245880</td>\n",
       "      <td>3000.0</td>\n",
       "      <td>NaN</td>\n",
       "      <td>NaN</td>\n",
       "      <td>...</td>\n",
       "      <td>One Way</td>\n",
       "      <td>Walk-up</td>\n",
       "      <td>NaN</td>\n",
       "      <td>NaN</td>\n",
       "      <td>NaN</td>\n",
       "      <td>NaN</td>\n",
       "      <td>NaN</td>\n",
       "      <td>NaN</td>\n",
       "      <td>NaN</td>\n",
       "      <td>NaN</td>\n",
       "    </tr>\n",
       "    <tr>\n",
       "      <th>3</th>\n",
       "      <td>20905031</td>\n",
       "      <td>18840</td>\n",
       "      <td>2017-02-27T12:26:00.000</td>\n",
       "      <td>2017-02-27T17:40:00.000</td>\n",
       "      <td>3023.0</td>\n",
       "      <td>34.050911</td>\n",
       "      <td>-118.240967</td>\n",
       "      <td>3000.0</td>\n",
       "      <td>NaN</td>\n",
       "      <td>NaN</td>\n",
       "      <td>...</td>\n",
       "      <td>One Way</td>\n",
       "      <td>Walk-up</td>\n",
       "      <td>NaN</td>\n",
       "      <td>NaN</td>\n",
       "      <td>NaN</td>\n",
       "      <td>NaN</td>\n",
       "      <td>NaN</td>\n",
       "      <td>NaN</td>\n",
       "      <td>NaN</td>\n",
       "      <td>NaN</td>\n",
       "    </tr>\n",
       "    <tr>\n",
       "      <th>4</th>\n",
       "      <td>21031476</td>\n",
       "      <td>86400</td>\n",
       "      <td>2017-02-27T20:26:00.000</td>\n",
       "      <td>2017-03-01T09:49:00.000</td>\n",
       "      <td>3008.0</td>\n",
       "      <td>34.046612</td>\n",
       "      <td>-118.262733</td>\n",
       "      <td>3000.0</td>\n",
       "      <td>NaN</td>\n",
       "      <td>NaN</td>\n",
       "      <td>...</td>\n",
       "      <td>One Way</td>\n",
       "      <td>Flex Pass</td>\n",
       "      <td>NaN</td>\n",
       "      <td>NaN</td>\n",
       "      <td>NaN</td>\n",
       "      <td>NaN</td>\n",
       "      <td>NaN</td>\n",
       "      <td>NaN</td>\n",
       "      <td>NaN</td>\n",
       "      <td>NaN</td>\n",
       "    </tr>\n",
       "    <tr>\n",
       "      <th>5</th>\n",
       "      <td>9378284</td>\n",
       "      <td>60</td>\n",
       "      <td>2016-10-09T09:40:00.000</td>\n",
       "      <td>2016-10-09T09:41:00.000</td>\n",
       "      <td>NaN</td>\n",
       "      <td>NaN</td>\n",
       "      <td>NaN</td>\n",
       "      <td>NaN</td>\n",
       "      <td>NaN</td>\n",
       "      <td>NaN</td>\n",
       "      <td>...</td>\n",
       "      <td>One Way</td>\n",
       "      <td>Staff Annual</td>\n",
       "      <td>NaN</td>\n",
       "      <td>NaN</td>\n",
       "      <td>NaN</td>\n",
       "      <td>NaN</td>\n",
       "      <td>NaN</td>\n",
       "      <td>NaN</td>\n",
       "      <td>NaN</td>\n",
       "      <td>NaN</td>\n",
       "    </tr>\n",
       "  </tbody>\n",
       "</table>\n",
       "<p>6 rows × 22 columns</p>\n",
       "</div>"
      ],
      "text/plain": [
       "    Trip ID  Duration               Start Time                 End Time  \\\n",
       "0  18222186     15060  2017-01-19T17:05:00.000  2017-01-19T21:16:00.000   \n",
       "1   9518671     77160  2016-10-09T14:37:00.000  2016-10-10T12:03:00.000   \n",
       "2  20444932     86400  2017-02-18T10:15:00.000  2017-02-20T15:20:00.000   \n",
       "3  20905031     18840  2017-02-27T12:26:00.000  2017-02-27T17:40:00.000   \n",
       "4  21031476     86400  2017-02-27T20:26:00.000  2017-03-01T09:49:00.000   \n",
       "5   9378284        60  2016-10-09T09:40:00.000  2016-10-09T09:41:00.000   \n",
       "\n",
       "   Starting Station ID  Starting Station Latitude  Starting Station Longitude  \\\n",
       "0               3031.0                  34.044701                 -118.252441   \n",
       "1                  NaN                        NaN                         NaN   \n",
       "2               3026.0                  34.063179                 -118.245880   \n",
       "3               3023.0                  34.050911                 -118.240967   \n",
       "4               3008.0                  34.046612                 -118.262733   \n",
       "5                  NaN                        NaN                         NaN   \n",
       "\n",
       "   Ending Station ID  Ending Station Latitude  Ending Station Longitude  ...  \\\n",
       "0             3000.0                      NaN                       NaN  ...   \n",
       "1             3000.0                      NaN                       NaN  ...   \n",
       "2             3000.0                      NaN                       NaN  ...   \n",
       "3             3000.0                      NaN                       NaN  ...   \n",
       "4             3000.0                      NaN                       NaN  ...   \n",
       "5                NaN                      NaN                       NaN  ...   \n",
       "\n",
       "   Trip Route Category  Passholder Type Starting Lat-Long Ending Lat-Long  \\\n",
       "0              One Way          Walk-up               NaN             NaN   \n",
       "1              One Way     Monthly Pass               NaN             NaN   \n",
       "2              One Way          Walk-up               NaN             NaN   \n",
       "3              One Way          Walk-up               NaN             NaN   \n",
       "4              One Way        Flex Pass               NaN             NaN   \n",
       "5              One Way     Staff Annual               NaN             NaN   \n",
       "\n",
       "  Neighborhood Councils (Certified) Council Districts  Zip Codes  \\\n",
       "0                               NaN               NaN        NaN   \n",
       "1                               NaN               NaN        NaN   \n",
       "2                               NaN               NaN        NaN   \n",
       "3                               NaN               NaN        NaN   \n",
       "4                               NaN               NaN        NaN   \n",
       "5                               NaN               NaN        NaN   \n",
       "\n",
       "   LA Specific Plans  Precinct Boundaries  Census Tracts  \n",
       "0                NaN                  NaN            NaN  \n",
       "1                NaN                  NaN            NaN  \n",
       "2                NaN                  NaN            NaN  \n",
       "3                NaN                  NaN            NaN  \n",
       "4                NaN                  NaN            NaN  \n",
       "5                NaN                  NaN            NaN  \n",
       "\n",
       "[6 rows x 22 columns]"
      ]
     },
     "execution_count": 31,
     "metadata": {},
     "output_type": "execute_result"
    }
   ],
   "source": [
    "metro_bike_trip_df =  pd.read_csv(\"metro-bike-share-trip-data.csv\")\n",
    "metro_bike_trip_df.head(6)"
   ]
  },
  {
   "cell_type": "code",
   "execution_count": 32,
   "metadata": {},
   "outputs": [
    {
     "data": {
      "text/html": [
       "<div>\n",
       "<style scoped>\n",
       "    .dataframe tbody tr th:only-of-type {\n",
       "        vertical-align: middle;\n",
       "    }\n",
       "\n",
       "    .dataframe tbody tr th {\n",
       "        vertical-align: top;\n",
       "    }\n",
       "\n",
       "    .dataframe thead th {\n",
       "        text-align: right;\n",
       "    }\n",
       "</style>\n",
       "<table border=\"1\" class=\"dataframe\">\n",
       "  <thead>\n",
       "    <tr style=\"text-align: right;\">\n",
       "      <th></th>\n",
       "      <th>Trip_ID</th>\n",
       "      <th>Duration</th>\n",
       "      <th>Start_Time</th>\n",
       "      <th>End_Time</th>\n",
       "      <th>Starting_Station_ID</th>\n",
       "      <th>Starting_Station_Latitude</th>\n",
       "      <th>Starting_Station_Longitude</th>\n",
       "      <th>Ending_Station_ID</th>\n",
       "      <th>Ending_Station_Latitude</th>\n",
       "      <th>Ending_Station_Longitude</th>\n",
       "      <th>...</th>\n",
       "      <th>Trip_Route_Category</th>\n",
       "      <th>Passholder_Type</th>\n",
       "      <th>Starting_Lat-Long</th>\n",
       "      <th>Ending_Lat-Long</th>\n",
       "      <th>Neighborhood_Councils_(Certified)</th>\n",
       "      <th>Council_Districts</th>\n",
       "      <th>Zip_Codes</th>\n",
       "      <th>LA_Specific_Plans</th>\n",
       "      <th>Precinct_Boundaries</th>\n",
       "      <th>Census_Tracts</th>\n",
       "    </tr>\n",
       "  </thead>\n",
       "  <tbody>\n",
       "    <tr>\n",
       "      <th>0</th>\n",
       "      <td>18222186</td>\n",
       "      <td>15060</td>\n",
       "      <td>2017-01-19T17:05:00.000</td>\n",
       "      <td>2017-01-19T21:16:00.000</td>\n",
       "      <td>3031.0</td>\n",
       "      <td>34.044701</td>\n",
       "      <td>-118.252441</td>\n",
       "      <td>3000.0</td>\n",
       "      <td>NaN</td>\n",
       "      <td>NaN</td>\n",
       "      <td>...</td>\n",
       "      <td>One Way</td>\n",
       "      <td>Walk-up</td>\n",
       "      <td>NaN</td>\n",
       "      <td>NaN</td>\n",
       "      <td>NaN</td>\n",
       "      <td>NaN</td>\n",
       "      <td>NaN</td>\n",
       "      <td>NaN</td>\n",
       "      <td>NaN</td>\n",
       "      <td>NaN</td>\n",
       "    </tr>\n",
       "    <tr>\n",
       "      <th>1</th>\n",
       "      <td>9518671</td>\n",
       "      <td>77160</td>\n",
       "      <td>2016-10-09T14:37:00.000</td>\n",
       "      <td>2016-10-10T12:03:00.000</td>\n",
       "      <td>NaN</td>\n",
       "      <td>NaN</td>\n",
       "      <td>NaN</td>\n",
       "      <td>3000.0</td>\n",
       "      <td>NaN</td>\n",
       "      <td>NaN</td>\n",
       "      <td>...</td>\n",
       "      <td>One Way</td>\n",
       "      <td>Monthly Pass</td>\n",
       "      <td>NaN</td>\n",
       "      <td>NaN</td>\n",
       "      <td>NaN</td>\n",
       "      <td>NaN</td>\n",
       "      <td>NaN</td>\n",
       "      <td>NaN</td>\n",
       "      <td>NaN</td>\n",
       "      <td>NaN</td>\n",
       "    </tr>\n",
       "    <tr>\n",
       "      <th>2</th>\n",
       "      <td>20444932</td>\n",
       "      <td>86400</td>\n",
       "      <td>2017-02-18T10:15:00.000</td>\n",
       "      <td>2017-02-20T15:20:00.000</td>\n",
       "      <td>3026.0</td>\n",
       "      <td>34.063179</td>\n",
       "      <td>-118.245880</td>\n",
       "      <td>3000.0</td>\n",
       "      <td>NaN</td>\n",
       "      <td>NaN</td>\n",
       "      <td>...</td>\n",
       "      <td>One Way</td>\n",
       "      <td>Walk-up</td>\n",
       "      <td>NaN</td>\n",
       "      <td>NaN</td>\n",
       "      <td>NaN</td>\n",
       "      <td>NaN</td>\n",
       "      <td>NaN</td>\n",
       "      <td>NaN</td>\n",
       "      <td>NaN</td>\n",
       "      <td>NaN</td>\n",
       "    </tr>\n",
       "    <tr>\n",
       "      <th>3</th>\n",
       "      <td>20905031</td>\n",
       "      <td>18840</td>\n",
       "      <td>2017-02-27T12:26:00.000</td>\n",
       "      <td>2017-02-27T17:40:00.000</td>\n",
       "      <td>3023.0</td>\n",
       "      <td>34.050911</td>\n",
       "      <td>-118.240967</td>\n",
       "      <td>3000.0</td>\n",
       "      <td>NaN</td>\n",
       "      <td>NaN</td>\n",
       "      <td>...</td>\n",
       "      <td>One Way</td>\n",
       "      <td>Walk-up</td>\n",
       "      <td>NaN</td>\n",
       "      <td>NaN</td>\n",
       "      <td>NaN</td>\n",
       "      <td>NaN</td>\n",
       "      <td>NaN</td>\n",
       "      <td>NaN</td>\n",
       "      <td>NaN</td>\n",
       "      <td>NaN</td>\n",
       "    </tr>\n",
       "    <tr>\n",
       "      <th>4</th>\n",
       "      <td>21031476</td>\n",
       "      <td>86400</td>\n",
       "      <td>2017-02-27T20:26:00.000</td>\n",
       "      <td>2017-03-01T09:49:00.000</td>\n",
       "      <td>3008.0</td>\n",
       "      <td>34.046612</td>\n",
       "      <td>-118.262733</td>\n",
       "      <td>3000.0</td>\n",
       "      <td>NaN</td>\n",
       "      <td>NaN</td>\n",
       "      <td>...</td>\n",
       "      <td>One Way</td>\n",
       "      <td>Flex Pass</td>\n",
       "      <td>NaN</td>\n",
       "      <td>NaN</td>\n",
       "      <td>NaN</td>\n",
       "      <td>NaN</td>\n",
       "      <td>NaN</td>\n",
       "      <td>NaN</td>\n",
       "      <td>NaN</td>\n",
       "      <td>NaN</td>\n",
       "    </tr>\n",
       "  </tbody>\n",
       "</table>\n",
       "<p>5 rows × 22 columns</p>\n",
       "</div>"
      ],
      "text/plain": [
       "    Trip_ID  Duration               Start_Time                 End_Time  \\\n",
       "0  18222186     15060  2017-01-19T17:05:00.000  2017-01-19T21:16:00.000   \n",
       "1   9518671     77160  2016-10-09T14:37:00.000  2016-10-10T12:03:00.000   \n",
       "2  20444932     86400  2017-02-18T10:15:00.000  2017-02-20T15:20:00.000   \n",
       "3  20905031     18840  2017-02-27T12:26:00.000  2017-02-27T17:40:00.000   \n",
       "4  21031476     86400  2017-02-27T20:26:00.000  2017-03-01T09:49:00.000   \n",
       "\n",
       "   Starting_Station_ID  Starting_Station_Latitude  Starting_Station_Longitude  \\\n",
       "0               3031.0                  34.044701                 -118.252441   \n",
       "1                  NaN                        NaN                         NaN   \n",
       "2               3026.0                  34.063179                 -118.245880   \n",
       "3               3023.0                  34.050911                 -118.240967   \n",
       "4               3008.0                  34.046612                 -118.262733   \n",
       "\n",
       "   Ending_Station_ID  Ending_Station_Latitude  Ending_Station_Longitude  ...  \\\n",
       "0             3000.0                      NaN                       NaN  ...   \n",
       "1             3000.0                      NaN                       NaN  ...   \n",
       "2             3000.0                      NaN                       NaN  ...   \n",
       "3             3000.0                      NaN                       NaN  ...   \n",
       "4             3000.0                      NaN                       NaN  ...   \n",
       "\n",
       "   Trip_Route_Category  Passholder_Type Starting_Lat-Long Ending_Lat-Long  \\\n",
       "0              One Way          Walk-up               NaN             NaN   \n",
       "1              One Way     Monthly Pass               NaN             NaN   \n",
       "2              One Way          Walk-up               NaN             NaN   \n",
       "3              One Way          Walk-up               NaN             NaN   \n",
       "4              One Way        Flex Pass               NaN             NaN   \n",
       "\n",
       "  Neighborhood_Councils_(Certified) Council_Districts  Zip_Codes  \\\n",
       "0                               NaN               NaN        NaN   \n",
       "1                               NaN               NaN        NaN   \n",
       "2                               NaN               NaN        NaN   \n",
       "3                               NaN               NaN        NaN   \n",
       "4                               NaN               NaN        NaN   \n",
       "\n",
       "   LA_Specific_Plans  Precinct_Boundaries  Census_Tracts  \n",
       "0                NaN                  NaN            NaN  \n",
       "1                NaN                  NaN            NaN  \n",
       "2                NaN                  NaN            NaN  \n",
       "3                NaN                  NaN            NaN  \n",
       "4                NaN                  NaN            NaN  \n",
       "\n",
       "[5 rows x 22 columns]"
      ]
     },
     "execution_count": 32,
     "metadata": {},
     "output_type": "execute_result"
    }
   ],
   "source": [
    "#Replacing the column name space with \"_\" for easier name conversion\n",
    "metro_bike_trip_df.columns = metro_bike_trip_df.columns.str.replace(' ','_')\n",
    "metro_bike_trip_df.head(5)"
   ]
  },
  {
   "cell_type": "code",
   "execution_count": 33,
   "metadata": {},
   "outputs": [
    {
     "name": "stdout",
     "output_type": "stream",
     "text": [
      "<class 'pandas.core.frame.DataFrame'>\n",
      "RangeIndex: 132427 entries, 0 to 132426\n",
      "Data columns (total 22 columns):\n",
      " #   Column                             Non-Null Count   Dtype  \n",
      "---  ------                             --------------   -----  \n",
      " 0   Trip_ID                            132427 non-null  int64  \n",
      " 1   Duration                           132427 non-null  int64  \n",
      " 2   Start_Time                         132427 non-null  object \n",
      " 3   End_Time                           132427 non-null  object \n",
      " 4   Starting_Station_ID                132408 non-null  float64\n",
      " 5   Starting_Station_Latitude          132379 non-null  float64\n",
      " 6   Starting_Station_Longitude         132379 non-null  float64\n",
      " 7   Ending_Station_ID                  132331 non-null  float64\n",
      " 8   Ending_Station_Latitude            131376 non-null  float64\n",
      " 9   Ending_Station_Longitude           131376 non-null  float64\n",
      " 10  Bike_ID                            132417 non-null  float64\n",
      " 11  Plan_Duration                      131661 non-null  float64\n",
      " 12  Trip_Route_Category                132427 non-null  object \n",
      " 13  Passholder_Type                    132427 non-null  object \n",
      " 14  Starting_Lat-Long                  98622 non-null   object \n",
      " 15  Ending_Lat-Long                    131376 non-null  object \n",
      " 16  Neighborhood_Councils_(Certified)  98590 non-null   float64\n",
      " 17  Council_Districts                  98590 non-null   float64\n",
      " 18  Zip_Codes                          98590 non-null   float64\n",
      " 19  LA_Specific_Plans                  15837 non-null   float64\n",
      " 20  Precinct_Boundaries                131328 non-null  float64\n",
      " 21  Census_Tracts                      131328 non-null  float64\n",
      "dtypes: float64(14), int64(2), object(6)\n",
      "memory usage: 22.2+ MB\n"
     ]
    }
   ],
   "source": [
    "metro_bike_trip_df.info()"
   ]
  },
  {
   "cell_type": "code",
   "execution_count": 34,
   "metadata": {},
   "outputs": [
    {
     "name": "stdout",
     "output_type": "stream",
     "text": [
      "shape: (132427, 22)\n"
     ]
    }
   ],
   "source": [
    "print(\"shape:\", metro_bike_trip_df.shape)"
   ]
  },
  {
   "cell_type": "code",
   "execution_count": 35,
   "metadata": {},
   "outputs": [
    {
     "name": "stdout",
     "output_type": "stream",
     "text": [
      "<class 'pandas.core.frame.DataFrame'>\n",
      "RangeIndex: 132427 entries, 0 to 132426\n",
      "Data columns (total 22 columns):\n",
      " #   Column                             Non-Null Count   Dtype         \n",
      "---  ------                             --------------   -----         \n",
      " 0   Trip_ID                            132427 non-null  int64         \n",
      " 1   Duration                           132427 non-null  int64         \n",
      " 2   Start_Time                         132427 non-null  datetime64[ns]\n",
      " 3   End_Time                           132427 non-null  datetime64[ns]\n",
      " 4   Starting_Station_ID                132408 non-null  float64       \n",
      " 5   Starting_Station_Latitude          132379 non-null  float64       \n",
      " 6   Starting_Station_Longitude         132379 non-null  float64       \n",
      " 7   Ending_Station_ID                  132331 non-null  float64       \n",
      " 8   Ending_Station_Latitude            131376 non-null  float64       \n",
      " 9   Ending_Station_Longitude           131376 non-null  float64       \n",
      " 10  Bike_ID                            132417 non-null  float64       \n",
      " 11  Plan_Duration                      131661 non-null  float64       \n",
      " 12  Trip_Route_Category                132427 non-null  object        \n",
      " 13  Passholder_Type                    132427 non-null  object        \n",
      " 14  Starting_Lat-Long                  98622 non-null   object        \n",
      " 15  Ending_Lat-Long                    131376 non-null  object        \n",
      " 16  Neighborhood_Councils_(Certified)  98590 non-null   float64       \n",
      " 17  Council_Districts                  98590 non-null   float64       \n",
      " 18  Zip_Codes                          98590 non-null   float64       \n",
      " 19  LA_Specific_Plans                  15837 non-null   float64       \n",
      " 20  Precinct_Boundaries                131328 non-null  float64       \n",
      " 21  Census_Tracts                      131328 non-null  float64       \n",
      "dtypes: datetime64[ns](2), float64(14), int64(2), object(4)\n",
      "memory usage: 22.2+ MB\n"
     ]
    }
   ],
   "source": [
    "# Changing Start and End Time values to datetime format\n",
    "metro_bike_trip_df['Start_Time']=pd.to_datetime(metro_bike_trip_df['Start_Time'])\n",
    "metro_bike_trip_df['End_Time']=pd.to_datetime(metro_bike_trip_df['End_Time'])\n",
    "metro_bike_trip_df.info()"
   ]
  },
  {
   "cell_type": "markdown",
   "metadata": {},
   "source": [
    "# Data Cleaning"
   ]
  },
  {
   "cell_type": "code",
   "execution_count": 36,
   "metadata": {},
   "outputs": [
    {
     "data": {
      "text/plain": [
       "Trip_ID                                   0\n",
       "Duration                                  0\n",
       "Start_Time                                0\n",
       "End_Time                                  0\n",
       "Starting_Station_ID                      19\n",
       "Starting_Station_Latitude                48\n",
       "Starting_Station_Longitude               48\n",
       "Ending_Station_ID                        96\n",
       "Ending_Station_Latitude                1051\n",
       "Ending_Station_Longitude               1051\n",
       "Bike_ID                                  10\n",
       "Plan_Duration                           766\n",
       "Trip_Route_Category                       0\n",
       "Passholder_Type                           0\n",
       "Starting_Lat-Long                     33805\n",
       "Ending_Lat-Long                        1051\n",
       "Neighborhood_Councils_(Certified)     33837\n",
       "Council_Districts                     33837\n",
       "Zip_Codes                             33837\n",
       "LA_Specific_Plans                    116590\n",
       "Precinct_Boundaries                    1099\n",
       "Census_Tracts                          1099\n",
       "dtype: int64"
      ]
     },
     "execution_count": 36,
     "metadata": {},
     "output_type": "execute_result"
    }
   ],
   "source": [
    "# Finding the null values in each column\n",
    "metro_bike_trip_df.isnull().sum()"
   ]
  },
  {
   "cell_type": "code",
   "execution_count": 37,
   "metadata": {},
   "outputs": [
    {
     "data": {
      "text/plain": [
       "<matplotlib.axes._subplots.AxesSubplot at 0x1a268bebd0>"
      ]
     },
     "execution_count": 37,
     "metadata": {},
     "output_type": "execute_result"
    },
    {
     "data": {
      "image/png": "[encoded data removed]",
      "text/plain": [
       "<Figure size 432x288 with 1 Axes>"
      ]
     },
     "metadata": {
      "needs_background": "light"
     },
     "output_type": "display_data"
    }
   ],
   "source": [
    "# Visually representing the null values of different columns using heatmap\n",
    "sns.heatmap(metro_bike_trip_df.isnull(),yticklabels=False,cbar=False,cmap='viridis')"
   ]
  },
  {
   "cell_type": "code",
   "execution_count": 38,
   "metadata": {},
   "outputs": [],
   "source": [
    "# Dropping below columns due to lack of data and more of null values\n",
    "metro_bike_trip_df.drop(columns=['Neighborhood_Councils_(Certified)',\n",
    "                 'Council_Districts',\n",
    "                 'Zip_Codes',\n",
    "                 'LA_Specific_Plans',\n",
    "                 'Precinct_Boundaries',\n",
    "                 'Census_Tracts'],\n",
    "       inplace=True)"
   ]
  },
  {
   "cell_type": "code",
   "execution_count": 39,
   "metadata": {},
   "outputs": [
    {
     "name": "stdout",
     "output_type": "stream",
     "text": [
      "<class 'pandas.core.frame.DataFrame'>\n",
      "Int64Index: 97825 entries, 2088 to 132426\n",
      "Data columns (total 16 columns):\n",
      " #   Column                      Non-Null Count  Dtype         \n",
      "---  ------                      --------------  -----         \n",
      " 0   Trip_ID                     97825 non-null  int64         \n",
      " 1   Duration                    97825 non-null  int64         \n",
      " 2   Start_Time                  97825 non-null  datetime64[ns]\n",
      " 3   End_Time                    97825 non-null  datetime64[ns]\n",
      " 4   Starting_Station_ID         97825 non-null  float64       \n",
      " 5   Starting_Station_Latitude   97825 non-null  float64       \n",
      " 6   Starting_Station_Longitude  97825 non-null  float64       \n",
      " 7   Ending_Station_ID           97825 non-null  float64       \n",
      " 8   Ending_Station_Latitude     97825 non-null  float64       \n",
      " 9   Ending_Station_Longitude    97825 non-null  float64       \n",
      " 10  Bike_ID                     97825 non-null  float64       \n",
      " 11  Plan_Duration               97825 non-null  float64       \n",
      " 12  Trip_Route_Category         97825 non-null  object        \n",
      " 13  Passholder_Type             97825 non-null  object        \n",
      " 14  Starting_Lat-Long           97825 non-null  object        \n",
      " 15  Ending_Lat-Long             97825 non-null  object        \n",
      "dtypes: datetime64[ns](2), float64(8), int64(2), object(4)\n",
      "memory usage: 12.7+ MB\n"
     ]
    }
   ],
   "source": [
    "# Droping the na values from the metro bike trip data\n",
    "metro_bike_trip_df = metro_bike_trip_df.dropna()\n",
    "metro_bike_trip_df.info()"
   ]
  },
  {
   "cell_type": "code",
   "execution_count": 40,
   "metadata": {},
   "outputs": [
    {
     "data": {
      "text/html": [
       "<div>\n",
       "<style scoped>\n",
       "    .dataframe tbody tr th:only-of-type {\n",
       "        vertical-align: middle;\n",
       "    }\n",
       "\n",
       "    .dataframe tbody tr th {\n",
       "        vertical-align: top;\n",
       "    }\n",
       "\n",
       "    .dataframe thead th {\n",
       "        text-align: right;\n",
       "    }\n",
       "</style>\n",
       "<table border=\"1\" class=\"dataframe\">\n",
       "  <thead>\n",
       "    <tr style=\"text-align: right;\">\n",
       "      <th></th>\n",
       "      <th>Trip_ID</th>\n",
       "      <th>Duration</th>\n",
       "      <th>Start_Time</th>\n",
       "      <th>End_Time</th>\n",
       "      <th>Starting_Station_ID</th>\n",
       "      <th>Starting_Station_Latitude</th>\n",
       "      <th>Starting_Station_Longitude</th>\n",
       "      <th>Ending_Station_ID</th>\n",
       "      <th>Ending_Station_Latitude</th>\n",
       "      <th>Ending_Station_Longitude</th>\n",
       "      <th>Bike_ID</th>\n",
       "      <th>Plan_Duration</th>\n",
       "      <th>Trip_Route_Category</th>\n",
       "      <th>Passholder_Type</th>\n",
       "      <th>Starting_Lat-Long</th>\n",
       "      <th>Ending_Lat-Long</th>\n",
       "    </tr>\n",
       "  </thead>\n",
       "  <tbody>\n",
       "    <tr>\n",
       "      <th>2088</th>\n",
       "      <td>2023364</td>\n",
       "      <td>1980</td>\n",
       "      <td>2016-07-08 09:24:00</td>\n",
       "      <td>2016-07-08 09:57:00</td>\n",
       "      <td>3045</td>\n",
       "      <td>34.028511</td>\n",
       "      <td>-118.25667</td>\n",
       "      <td>3045</td>\n",
       "      <td>34.028511</td>\n",
       "      <td>-118.25667</td>\n",
       "      <td>5833</td>\n",
       "      <td>30.0</td>\n",
       "      <td>Round Trip</td>\n",
       "      <td>Monthly Pass</td>\n",
       "      <td>{'longitude': '-118.25667', 'latitude': '34.02...</td>\n",
       "      <td>{'longitude': '-118.25667', 'latitude': '34.02...</td>\n",
       "    </tr>\n",
       "    <tr>\n",
       "      <th>2089</th>\n",
       "      <td>2027211</td>\n",
       "      <td>180</td>\n",
       "      <td>2016-07-08 10:40:00</td>\n",
       "      <td>2016-07-08 10:43:00</td>\n",
       "      <td>4108</td>\n",
       "      <td>0.000000</td>\n",
       "      <td>0.00000</td>\n",
       "      <td>4108</td>\n",
       "      <td>0.000000</td>\n",
       "      <td>0.00000</td>\n",
       "      <td>6065</td>\n",
       "      <td>30.0</td>\n",
       "      <td>Round Trip</td>\n",
       "      <td>Monthly Pass</td>\n",
       "      <td>{'longitude': '0.0', 'latitude': '0.0'}</td>\n",
       "      <td>{'longitude': '0.0', 'latitude': '0.0'}</td>\n",
       "    </tr>\n",
       "    <tr>\n",
       "      <th>2090</th>\n",
       "      <td>2035311</td>\n",
       "      <td>780</td>\n",
       "      <td>2016-07-08 12:42:00</td>\n",
       "      <td>2016-07-08 12:55:00</td>\n",
       "      <td>3029</td>\n",
       "      <td>34.048851</td>\n",
       "      <td>-118.24642</td>\n",
       "      <td>3029</td>\n",
       "      <td>34.048851</td>\n",
       "      <td>-118.24642</td>\n",
       "      <td>6011</td>\n",
       "      <td>0.0</td>\n",
       "      <td>Round Trip</td>\n",
       "      <td>Walk-up</td>\n",
       "      <td>{'longitude': '-118.24642', 'latitude': '34.04...</td>\n",
       "      <td>{'longitude': '-118.24642', 'latitude': '34.04...</td>\n",
       "    </tr>\n",
       "    <tr>\n",
       "      <th>2091</th>\n",
       "      <td>2182651</td>\n",
       "      <td>4440</td>\n",
       "      <td>2016-07-09 19:08:00</td>\n",
       "      <td>2016-07-09 20:22:00</td>\n",
       "      <td>3045</td>\n",
       "      <td>34.028511</td>\n",
       "      <td>-118.25667</td>\n",
       "      <td>3045</td>\n",
       "      <td>34.028511</td>\n",
       "      <td>-118.25667</td>\n",
       "      <td>6623</td>\n",
       "      <td>30.0</td>\n",
       "      <td>Round Trip</td>\n",
       "      <td>Monthly Pass</td>\n",
       "      <td>{'longitude': '-118.25667', 'latitude': '34.02...</td>\n",
       "      <td>{'longitude': '-118.25667', 'latitude': '34.02...</td>\n",
       "    </tr>\n",
       "    <tr>\n",
       "      <th>2092</th>\n",
       "      <td>2286870</td>\n",
       "      <td>5220</td>\n",
       "      <td>2016-07-10 10:56:00</td>\n",
       "      <td>2016-07-10 12:23:00</td>\n",
       "      <td>3045</td>\n",
       "      <td>34.028511</td>\n",
       "      <td>-118.25667</td>\n",
       "      <td>3045</td>\n",
       "      <td>34.028511</td>\n",
       "      <td>-118.25667</td>\n",
       "      <td>6210</td>\n",
       "      <td>30.0</td>\n",
       "      <td>Round Trip</td>\n",
       "      <td>Monthly Pass</td>\n",
       "      <td>{'longitude': '-118.25667', 'latitude': '34.02...</td>\n",
       "      <td>{'longitude': '-118.25667', 'latitude': '34.02...</td>\n",
       "    </tr>\n",
       "  </tbody>\n",
       "</table>\n",
       "</div>"
      ],
      "text/plain": [
       "      Trip_ID  Duration          Start_Time            End_Time  \\\n",
       "2088  2023364      1980 2016-07-08 09:24:00 2016-07-08 09:57:00   \n",
       "2089  2027211       180 2016-07-08 10:40:00 2016-07-08 10:43:00   \n",
       "2090  2035311       780 2016-07-08 12:42:00 2016-07-08 12:55:00   \n",
       "2091  2182651      4440 2016-07-09 19:08:00 2016-07-09 20:22:00   \n",
       "2092  2286870      5220 2016-07-10 10:56:00 2016-07-10 12:23:00   \n",
       "\n",
       "      Starting_Station_ID  Starting_Station_Latitude  \\\n",
       "2088                 3045                  34.028511   \n",
       "2089                 4108                   0.000000   \n",
       "2090                 3029                  34.048851   \n",
       "2091                 3045                  34.028511   \n",
       "2092                 3045                  34.028511   \n",
       "\n",
       "      Starting_Station_Longitude  Ending_Station_ID  Ending_Station_Latitude  \\\n",
       "2088                  -118.25667               3045                34.028511   \n",
       "2089                     0.00000               4108                 0.000000   \n",
       "2090                  -118.24642               3029                34.048851   \n",
       "2091                  -118.25667               3045                34.028511   \n",
       "2092                  -118.25667               3045                34.028511   \n",
       "\n",
       "      Ending_Station_Longitude  Bike_ID  Plan_Duration Trip_Route_Category  \\\n",
       "2088                -118.25667     5833           30.0          Round Trip   \n",
       "2089                   0.00000     6065           30.0          Round Trip   \n",
       "2090                -118.24642     6011            0.0          Round Trip   \n",
       "2091                -118.25667     6623           30.0          Round Trip   \n",
       "2092                -118.25667     6210           30.0          Round Trip   \n",
       "\n",
       "     Passholder_Type                                  Starting_Lat-Long  \\\n",
       "2088    Monthly Pass  {'longitude': '-118.25667', 'latitude': '34.02...   \n",
       "2089    Monthly Pass            {'longitude': '0.0', 'latitude': '0.0'}   \n",
       "2090         Walk-up  {'longitude': '-118.24642', 'latitude': '34.04...   \n",
       "2091    Monthly Pass  {'longitude': '-118.25667', 'latitude': '34.02...   \n",
       "2092    Monthly Pass  {'longitude': '-118.25667', 'latitude': '34.02...   \n",
       "\n",
       "                                        Ending_Lat-Long  \n",
       "2088  {'longitude': '-118.25667', 'latitude': '34.02...  \n",
       "2089            {'longitude': '0.0', 'latitude': '0.0'}  \n",
       "2090  {'longitude': '-118.24642', 'latitude': '34.04...  \n",
       "2091  {'longitude': '-118.25667', 'latitude': '34.02...  \n",
       "2092  {'longitude': '-118.25667', 'latitude': '34.02...  "
      ]
     },
     "execution_count": 40,
     "metadata": {},
     "output_type": "execute_result"
    }
   ],
   "source": [
    "# Change format of station and bike ID's to integer.\n",
    "metro_bike_trip_df['Starting_Station_ID'] = metro_bike_trip_df.Starting_Station_ID.astype(int)\n",
    "metro_bike_trip_df['Ending_Station_ID'] = metro_bike_trip_df.Ending_Station_ID.astype(int)\n",
    "metro_bike_trip_df['Bike_ID'] = metro_bike_trip_df.Bike_ID.astype(int)\n",
    "metro_bike_trip_df.head(5)"
   ]
  },
  {
   "cell_type": "code",
   "execution_count": 41,
   "metadata": {},
   "outputs": [
    {
     "name": "stdout",
     "output_type": "stream",
     "text": [
      "Total number of Starting stations: 64\n",
      "Total number of Ending stations: 64\n",
      "Total number of bikes: 762\n"
     ]
    }
   ],
   "source": [
    "# Now we will find the total number of stations and total number of bikes \n",
    "print(\"Total number of Starting stations:\", metro_bike_trip_df.Starting_Station_ID.nunique())\n",
    "print(\"Total number of Ending stations:\", metro_bike_trip_df.Ending_Station_ID.nunique())\n",
    "print(\"Total number of bikes:\",metro_bike_trip_df.Bike_ID.nunique())"
   ]
  },
  {
   "cell_type": "markdown",
   "metadata": {},
   "source": [
    "# Performing Exploratory Data Analysis for the Bike Trip Data"
   ]
  },
  {
   "cell_type": "code",
   "execution_count": 42,
   "metadata": {},
   "outputs": [
    {
     "data": {
      "image/png": "[encoded data removed]",
      "text/plain": [
       "<Figure size 432x288 with 1 Axes>"
      ]
     },
     "metadata": {
      "needs_background": "light"
     },
     "output_type": "display_data"
    }
   ],
   "source": [
    "# Finding the trip route category and ploting it in the form of bar graph\n",
    "metro_bike_trip_df.Trip_Route_Category.value_counts().plot(kind='bar')\n",
    "plt.show()"
   ]
  },
  {
   "cell_type": "markdown",
   "metadata": {},
   "source": [
    "#### As we can see the maximum trip is one way which basically means people usually start at one location and end on different location.  "
   ]
  },
  {
   "cell_type": "code",
   "execution_count": 43,
   "metadata": {},
   "outputs": [],
   "source": [
    "#Busiest Bike by Times \n",
    "bike_use_df = pd.DataFrame()\n",
    "bike_use_df = metro_bike_trip_df.groupby(['Bike_ID']).size().reset_index(name = 'Number of Times Used')\n",
    "bike_use_df = bike_use_df.sort_values('Number of Times Used', ascending = False)\n",
    "bike_use_df = bike_use_df[:10]\n",
    "bike_use_df['Bike_ID'] = bike_use_df['Bike_ID'].astype(str)\n",
    "bike_use_df['Bike_ID'] = ('Bike ' + bike_use_df['Bike_ID'])\n",
    "bike_use_df = bike_use_df.reset_index()"
   ]
  },
  {
   "cell_type": "code",
   "execution_count": 44,
   "metadata": {},
   "outputs": [
    {
     "data": {
      "image/png": "[encoded data removed]",
      "text/plain": [
       "<Figure size 432x288 with 1 Axes>"
      ]
     },
     "metadata": {
      "needs_background": "light"
     },
     "output_type": "display_data"
    }
   ],
   "source": [
    "#Visual of most used bike based on Number of Trips\n",
    "g = sns.barplot('Number of Times Used','Bike_ID', data = bike_use_df)\n",
    "plt.title(\"Busiest Bike by Times Used\")\n",
    "for index, row in bike_use_df.iterrows():\n",
    "    g.text(row['Number of Times Used']-30,index,row['Number of Times Used'], \n",
    "             color='white', ha=\"center\",fontsize = 10)\n",
    "plt.show()"
   ]
  },
  {
   "cell_type": "markdown",
   "metadata": {},
   "source": [
    "#### We found the most used bikes, now using the most used bike we will find the popular starting and ending location."
   ]
  },
  {
   "cell_type": "code",
   "execution_count": 45,
   "metadata": {},
   "outputs": [
    {
     "name": "stdout",
     "output_type": "stream",
     "text": [
      "Most used 5 bikes: \n",
      " 4727    221\n",
      "6608    214\n",
      "5839    208\n",
      "6435    205\n",
      "6424    204\n",
      "Name: Bike_ID, dtype: int64\n",
      "\n",
      "Popular 5 Start stations: \n",
      " 3030    3778\n",
      "3069    3726\n",
      "3005    3613\n",
      "3014    3497\n",
      "3031    3444\n",
      "Name: Starting_Station_ID, dtype: int64\n",
      "\n",
      "Popular 5 End stations: \n",
      " 3005    4615\n",
      "3031    4176\n",
      "3014    4096\n",
      "3042    3865\n",
      "3069    3623\n",
      "Name: Ending_Station_ID, dtype: int64\n",
      "\n",
      "The maximum trip duration: 86400\n",
      "\n",
      "The minimum trip duration: 60\n"
     ]
    }
   ],
   "source": [
    "# Finding the most used 5 bikes for maximumn duration  \n",
    "print(\"Most used 5 bikes: \\n\",metro_bike_trip_df.Bike_ID.value_counts().head())\n",
    "\n",
    "#popular start station and end station\n",
    "print(\"\\nPopular 5 Start stations: \\n\",metro_bike_trip_df.Starting_Station_ID.value_counts().head())\n",
    "print(\"\\nPopular 5 End stations: \\n\",metro_bike_trip_df.Ending_Station_ID.value_counts().head())\n",
    "\n",
    "#Finding the maximum and minimum trip duration\n",
    "print(\"\\nThe maximum trip duration:\",metro_bike_trip_df.Duration.max())\n",
    "print(\"\\nThe minimum trip duration:\",metro_bike_trip_df.Duration.min())"
   ]
  },
  {
   "cell_type": "markdown",
   "metadata": {},
   "source": [
    "#### Our next job is to find the locations of the stations"
   ]
  },
  {
   "cell_type": "code",
   "execution_count": 46,
   "metadata": {},
   "outputs": [
    {
     "data": {
      "text/html": [
       "<div>\n",
       "<style scoped>\n",
       "    .dataframe tbody tr th:only-of-type {\n",
       "        vertical-align: middle;\n",
       "    }\n",
       "\n",
       "    .dataframe tbody tr th {\n",
       "        vertical-align: top;\n",
       "    }\n",
       "\n",
       "    .dataframe thead th {\n",
       "        text-align: right;\n",
       "    }\n",
       "</style>\n",
       "<table border=\"1\" class=\"dataframe\">\n",
       "  <thead>\n",
       "    <tr style=\"text-align: right;\">\n",
       "      <th></th>\n",
       "      <th>Trip_ID</th>\n",
       "      <th>Duration</th>\n",
       "      <th>Starting_Station_ID</th>\n",
       "      <th>Starting_Station_Latitude</th>\n",
       "      <th>Starting_Station_Longitude</th>\n",
       "      <th>Ending_Station_ID</th>\n",
       "      <th>Ending_Station_Latitude</th>\n",
       "      <th>Ending_Station_Longitude</th>\n",
       "      <th>Bike_ID</th>\n",
       "      <th>Plan_Duration</th>\n",
       "    </tr>\n",
       "  </thead>\n",
       "  <tbody>\n",
       "    <tr>\n",
       "      <th>count</th>\n",
       "      <td>9.782500e+04</td>\n",
       "      <td>97825.000000</td>\n",
       "      <td>97825.000000</td>\n",
       "      <td>97825.000000</td>\n",
       "      <td>97825.000000</td>\n",
       "      <td>97825.000000</td>\n",
       "      <td>97825.000000</td>\n",
       "      <td>97825.000000</td>\n",
       "      <td>97825.000000</td>\n",
       "      <td>97825.000000</td>\n",
       "    </tr>\n",
       "    <tr>\n",
       "      <th>mean</th>\n",
       "      <td>8.451612e+06</td>\n",
       "      <td>1362.284896</td>\n",
       "      <td>3042.024626</td>\n",
       "      <td>34.036437</td>\n",
       "      <td>-118.211316</td>\n",
       "      <td>3041.553274</td>\n",
       "      <td>34.030414</td>\n",
       "      <td>-118.191661</td>\n",
       "      <td>6193.698451</td>\n",
       "      <td>45.319244</td>\n",
       "    </tr>\n",
       "    <tr>\n",
       "      <th>std</th>\n",
       "      <td>4.111924e+06</td>\n",
       "      <td>4679.233275</td>\n",
       "      <td>29.756843</td>\n",
       "      <td>0.615729</td>\n",
       "      <td>2.138390</td>\n",
       "      <td>33.035783</td>\n",
       "      <td>0.754025</td>\n",
       "      <td>2.618753</td>\n",
       "      <td>291.605995</td>\n",
       "      <td>91.195493</td>\n",
       "    </tr>\n",
       "    <tr>\n",
       "      <th>min</th>\n",
       "      <td>1.912818e+06</td>\n",
       "      <td>60.000000</td>\n",
       "      <td>3005.000000</td>\n",
       "      <td>0.000000</td>\n",
       "      <td>-118.270813</td>\n",
       "      <td>3005.000000</td>\n",
       "      <td>0.000000</td>\n",
       "      <td>-118.270813</td>\n",
       "      <td>4727.000000</td>\n",
       "      <td>0.000000</td>\n",
       "    </tr>\n",
       "    <tr>\n",
       "      <th>25%</th>\n",
       "      <td>5.050101e+06</td>\n",
       "      <td>360.000000</td>\n",
       "      <td>3024.000000</td>\n",
       "      <td>34.044170</td>\n",
       "      <td>-118.256980</td>\n",
       "      <td>3022.000000</td>\n",
       "      <td>34.044159</td>\n",
       "      <td>-118.256980</td>\n",
       "      <td>5957.000000</td>\n",
       "      <td>0.000000</td>\n",
       "    </tr>\n",
       "    <tr>\n",
       "      <th>50%</th>\n",
       "      <td>7.086248e+06</td>\n",
       "      <td>600.000000</td>\n",
       "      <td>3038.000000</td>\n",
       "      <td>34.046822</td>\n",
       "      <td>-118.250954</td>\n",
       "      <td>3038.000000</td>\n",
       "      <td>34.046810</td>\n",
       "      <td>-118.251579</td>\n",
       "      <td>6186.000000</td>\n",
       "      <td>30.000000</td>\n",
       "    </tr>\n",
       "    <tr>\n",
       "      <th>75%</th>\n",
       "      <td>1.195715e+07</td>\n",
       "      <td>1080.000000</td>\n",
       "      <td>3063.000000</td>\n",
       "      <td>34.050880</td>\n",
       "      <td>-118.241562</td>\n",
       "      <td>3063.000000</td>\n",
       "      <td>34.050480</td>\n",
       "      <td>-118.238937</td>\n",
       "      <td>6431.000000</td>\n",
       "      <td>30.000000</td>\n",
       "    </tr>\n",
       "    <tr>\n",
       "      <th>max</th>\n",
       "      <td>1.710164e+07</td>\n",
       "      <td>86400.000000</td>\n",
       "      <td>4108.000000</td>\n",
       "      <td>34.064281</td>\n",
       "      <td>0.000000</td>\n",
       "      <td>4108.000000</td>\n",
       "      <td>34.064281</td>\n",
       "      <td>0.000000</td>\n",
       "      <td>6728.000000</td>\n",
       "      <td>365.000000</td>\n",
       "    </tr>\n",
       "  </tbody>\n",
       "</table>\n",
       "</div>"
      ],
      "text/plain": [
       "            Trip_ID      Duration  Starting_Station_ID  \\\n",
       "count  9.782500e+04  97825.000000         97825.000000   \n",
       "mean   8.451612e+06   1362.284896          3042.024626   \n",
       "std    4.111924e+06   4679.233275            29.756843   \n",
       "min    1.912818e+06     60.000000          3005.000000   \n",
       "25%    5.050101e+06    360.000000          3024.000000   \n",
       "50%    7.086248e+06    600.000000          3038.000000   \n",
       "75%    1.195715e+07   1080.000000          3063.000000   \n",
       "max    1.710164e+07  86400.000000          4108.000000   \n",
       "\n",
       "       Starting_Station_Latitude  Starting_Station_Longitude  \\\n",
       "count               97825.000000                97825.000000   \n",
       "mean                   34.036437                 -118.211316   \n",
       "std                     0.615729                    2.138390   \n",
       "min                     0.000000                 -118.270813   \n",
       "25%                    34.044170                 -118.256980   \n",
       "50%                    34.046822                 -118.250954   \n",
       "75%                    34.050880                 -118.241562   \n",
       "max                    34.064281                    0.000000   \n",
       "\n",
       "       Ending_Station_ID  Ending_Station_Latitude  Ending_Station_Longitude  \\\n",
       "count       97825.000000             97825.000000              97825.000000   \n",
       "mean         3041.553274                34.030414               -118.191661   \n",
       "std            33.035783                 0.754025                  2.618753   \n",
       "min          3005.000000                 0.000000               -118.270813   \n",
       "25%          3022.000000                34.044159               -118.256980   \n",
       "50%          3038.000000                34.046810               -118.251579   \n",
       "75%          3063.000000                34.050480               -118.238937   \n",
       "max          4108.000000                34.064281                  0.000000   \n",
       "\n",
       "            Bike_ID  Plan_Duration  \n",
       "count  97825.000000   97825.000000  \n",
       "mean    6193.698451      45.319244  \n",
       "std      291.605995      91.195493  \n",
       "min     4727.000000       0.000000  \n",
       "25%     5957.000000       0.000000  \n",
       "50%     6186.000000      30.000000  \n",
       "75%     6431.000000      30.000000  \n",
       "max     6728.000000     365.000000  "
      ]
     },
     "execution_count": 46,
     "metadata": {},
     "output_type": "execute_result"
    }
   ],
   "source": [
    "metro_bike_trip_df.describe()"
   ]
  },
  {
   "cell_type": "markdown",
   "metadata": {},
   "source": [
    "#### Starting Station Latitude, Starting Station Longitude, Ending Station Latitude & Ending Station Longitude contain zeros that must be treated as missing data. However, there are no zeros or any remaining missing values in Starting Station ID or Ending Station ID, we can use these values to impute the missing data"
   ]
  },
  {
   "cell_type": "code",
   "execution_count": 47,
   "metadata": {},
   "outputs": [
    {
     "name": "stdout",
     "output_type": "stream",
     "text": [
      "4108    32\n",
      "Name: Starting_Station_ID, dtype: int64\n",
      "4108    32\n",
      "Name: Starting_Station_ID, dtype: int64\n",
      "4108    48\n",
      "Name: Ending_Station_ID, dtype: int64\n",
      "4108    48\n",
      "Name: Ending_Station_ID, dtype: int64\n"
     ]
    }
   ],
   "source": [
    "print(metro_bike_trip_df.loc[metro_bike_trip_df['Starting_Station_Latitude']==0]['Starting_Station_ID'].value_counts())\n",
    "print(metro_bike_trip_df.loc[metro_bike_trip_df['Starting_Station_Longitude']==0]['Starting_Station_ID'].value_counts())\n",
    "print(metro_bike_trip_df.loc[metro_bike_trip_df['Ending_Station_Latitude']==0]['Ending_Station_ID'].value_counts())\n",
    "print(metro_bike_trip_df.loc[metro_bike_trip_df['Ending_Station_Longitude']==0]['Ending_Station_ID'].value_counts())"
   ]
  },
  {
   "cell_type": "markdown",
   "metadata": {},
   "source": [
    "#### All of the zeros were recorded at Bike Station 4108, there may be some kind of error related to this particular Bike Station. The values of this bike station's latitude and Longitude can be found in any of the complete values and imputed over the zeros."
   ]
  },
  {
   "cell_type": "code",
   "execution_count": 48,
   "metadata": {},
   "outputs": [],
   "source": [
    "stat_4108_lat= metro_bike_trip_df.loc[metro_bike_trip_df['Starting_Station_ID']==4108]['Starting_Station_Latitude'].max() #use max to avoid the zeros\n",
    "stat_4108_long= metro_bike_trip_df.loc[metro_bike_trip_df['Starting_Station_ID']==4108]['Starting_Station_Longitude'].min()\n",
    " #all non-zeroes are the same anyway no need to find and replace\n",
    "metro_bike_trip_df['Starting_Station_Latitude'].replace(0,stat_4108_lat,inplace=True)\n",
    "metro_bike_trip_df['Ending_Station_Latitude'].replace(0,stat_4108_lat,inplace=True)\n",
    "metro_bike_trip_df['Starting_Station_Longitude'].replace(0,stat_4108_long,inplace=True)\n",
    "metro_bike_trip_df['Ending_Station_Longitude'].replace(0,stat_4108_long,inplace=True)"
   ]
  },
  {
   "cell_type": "code",
   "execution_count": 49,
   "metadata": {},
   "outputs": [
    {
     "data": {
      "text/html": [
       "<div>\n",
       "<style scoped>\n",
       "    .dataframe tbody tr th:only-of-type {\n",
       "        vertical-align: middle;\n",
       "    }\n",
       "\n",
       "    .dataframe tbody tr th {\n",
       "        vertical-align: top;\n",
       "    }\n",
       "\n",
       "    .dataframe thead th {\n",
       "        text-align: right;\n",
       "    }\n",
       "</style>\n",
       "<table border=\"1\" class=\"dataframe\">\n",
       "  <thead>\n",
       "    <tr style=\"text-align: right;\">\n",
       "      <th></th>\n",
       "      <th>Trip_ID</th>\n",
       "      <th>Duration</th>\n",
       "      <th>Starting_Station_ID</th>\n",
       "      <th>Starting_Station_Latitude</th>\n",
       "      <th>Starting_Station_Longitude</th>\n",
       "      <th>Ending_Station_ID</th>\n",
       "      <th>Ending_Station_Latitude</th>\n",
       "      <th>Ending_Station_Longitude</th>\n",
       "      <th>Bike_ID</th>\n",
       "      <th>Plan_Duration</th>\n",
       "    </tr>\n",
       "  </thead>\n",
       "  <tbody>\n",
       "    <tr>\n",
       "      <th>count</th>\n",
       "      <td>9.782500e+04</td>\n",
       "      <td>97825.000000</td>\n",
       "      <td>97825.000000</td>\n",
       "      <td>97825.000000</td>\n",
       "      <td>97825.000000</td>\n",
       "      <td>97825.000000</td>\n",
       "      <td>97825.000000</td>\n",
       "      <td>97825.000000</td>\n",
       "      <td>97825.000000</td>\n",
       "      <td>97825.000000</td>\n",
       "    </tr>\n",
       "    <tr>\n",
       "      <th>mean</th>\n",
       "      <td>8.451612e+06</td>\n",
       "      <td>1362.284896</td>\n",
       "      <td>3042.024626</td>\n",
       "      <td>34.047567</td>\n",
       "      <td>-118.249993</td>\n",
       "      <td>3041.553274</td>\n",
       "      <td>34.047109</td>\n",
       "      <td>-118.249678</td>\n",
       "      <td>6193.698451</td>\n",
       "      <td>45.319244</td>\n",
       "    </tr>\n",
       "    <tr>\n",
       "      <th>std</th>\n",
       "      <td>4.111924e+06</td>\n",
       "      <td>4679.233275</td>\n",
       "      <td>29.756843</td>\n",
       "      <td>0.006210</td>\n",
       "      <td>0.009724</td>\n",
       "      <td>33.035783</td>\n",
       "      <td>0.006111</td>\n",
       "      <td>0.010060</td>\n",
       "      <td>291.605995</td>\n",
       "      <td>91.195493</td>\n",
       "    </tr>\n",
       "    <tr>\n",
       "      <th>min</th>\n",
       "      <td>1.912818e+06</td>\n",
       "      <td>60.000000</td>\n",
       "      <td>3005.000000</td>\n",
       "      <td>34.025890</td>\n",
       "      <td>-118.270813</td>\n",
       "      <td>3005.000000</td>\n",
       "      <td>34.025890</td>\n",
       "      <td>-118.270813</td>\n",
       "      <td>4727.000000</td>\n",
       "      <td>0.000000</td>\n",
       "    </tr>\n",
       "    <tr>\n",
       "      <th>25%</th>\n",
       "      <td>5.050101e+06</td>\n",
       "      <td>360.000000</td>\n",
       "      <td>3024.000000</td>\n",
       "      <td>34.044170</td>\n",
       "      <td>-118.256980</td>\n",
       "      <td>3022.000000</td>\n",
       "      <td>34.044159</td>\n",
       "      <td>-118.256980</td>\n",
       "      <td>5957.000000</td>\n",
       "      <td>0.000000</td>\n",
       "    </tr>\n",
       "    <tr>\n",
       "      <th>50%</th>\n",
       "      <td>7.086248e+06</td>\n",
       "      <td>600.000000</td>\n",
       "      <td>3038.000000</td>\n",
       "      <td>34.046822</td>\n",
       "      <td>-118.250954</td>\n",
       "      <td>3038.000000</td>\n",
       "      <td>34.046810</td>\n",
       "      <td>-118.251579</td>\n",
       "      <td>6186.000000</td>\n",
       "      <td>30.000000</td>\n",
       "    </tr>\n",
       "    <tr>\n",
       "      <th>75%</th>\n",
       "      <td>1.195715e+07</td>\n",
       "      <td>1080.000000</td>\n",
       "      <td>3063.000000</td>\n",
       "      <td>34.050880</td>\n",
       "      <td>-118.241562</td>\n",
       "      <td>3063.000000</td>\n",
       "      <td>34.050480</td>\n",
       "      <td>-118.238937</td>\n",
       "      <td>6431.000000</td>\n",
       "      <td>30.000000</td>\n",
       "    </tr>\n",
       "    <tr>\n",
       "      <th>max</th>\n",
       "      <td>1.710164e+07</td>\n",
       "      <td>86400.000000</td>\n",
       "      <td>4108.000000</td>\n",
       "      <td>34.064281</td>\n",
       "      <td>-118.231277</td>\n",
       "      <td>4108.000000</td>\n",
       "      <td>34.064281</td>\n",
       "      <td>-118.231277</td>\n",
       "      <td>6728.000000</td>\n",
       "      <td>365.000000</td>\n",
       "    </tr>\n",
       "  </tbody>\n",
       "</table>\n",
       "</div>"
      ],
      "text/plain": [
       "            Trip_ID      Duration  Starting_Station_ID  \\\n",
       "count  9.782500e+04  97825.000000         97825.000000   \n",
       "mean   8.451612e+06   1362.284896          3042.024626   \n",
       "std    4.111924e+06   4679.233275            29.756843   \n",
       "min    1.912818e+06     60.000000          3005.000000   \n",
       "25%    5.050101e+06    360.000000          3024.000000   \n",
       "50%    7.086248e+06    600.000000          3038.000000   \n",
       "75%    1.195715e+07   1080.000000          3063.000000   \n",
       "max    1.710164e+07  86400.000000          4108.000000   \n",
       "\n",
       "       Starting_Station_Latitude  Starting_Station_Longitude  \\\n",
       "count               97825.000000                97825.000000   \n",
       "mean                   34.047567                 -118.249993   \n",
       "std                     0.006210                    0.009724   \n",
       "min                    34.025890                 -118.270813   \n",
       "25%                    34.044170                 -118.256980   \n",
       "50%                    34.046822                 -118.250954   \n",
       "75%                    34.050880                 -118.241562   \n",
       "max                    34.064281                 -118.231277   \n",
       "\n",
       "       Ending_Station_ID  Ending_Station_Latitude  Ending_Station_Longitude  \\\n",
       "count       97825.000000             97825.000000              97825.000000   \n",
       "mean         3041.553274                34.047109               -118.249678   \n",
       "std            33.035783                 0.006111                  0.010060   \n",
       "min          3005.000000                34.025890               -118.270813   \n",
       "25%          3022.000000                34.044159               -118.256980   \n",
       "50%          3038.000000                34.046810               -118.251579   \n",
       "75%          3063.000000                34.050480               -118.238937   \n",
       "max          4108.000000                34.064281               -118.231277   \n",
       "\n",
       "            Bike_ID  Plan_Duration  \n",
       "count  97825.000000   97825.000000  \n",
       "mean    6193.698451      45.319244  \n",
       "std      291.605995      91.195493  \n",
       "min     4727.000000       0.000000  \n",
       "25%     5957.000000       0.000000  \n",
       "50%     6186.000000      30.000000  \n",
       "75%     6431.000000      30.000000  \n",
       "max     6728.000000     365.000000  "
      ]
     },
     "execution_count": 49,
     "metadata": {},
     "output_type": "execute_result"
    }
   ],
   "source": [
    "metro_bike_trip_df.describe()"
   ]
  },
  {
   "cell_type": "markdown",
   "metadata": {},
   "source": [
    "#### The dataset is now free of missing values"
   ]
  },
  {
   "cell_type": "code",
   "execution_count": 50,
   "metadata": {},
   "outputs": [
    {
     "data": {
      "image/png": "[encoded data removed]",
      "text/plain": [
       "<Figure size 1008x360 with 2 Axes>"
      ]
     },
     "metadata": {
      "needs_background": "light"
     },
     "output_type": "display_data"
    }
   ],
   "source": [
    "plt.figure(figsize=(14,5))\n",
    "plt.subplot(1,2,1)\n",
    "plt.scatter(metro_bike_trip_df['Starting_Station_Latitude'],metro_bike_trip_df['Starting_Station_Longitude'],alpha=0.3)\n",
    "plt.title(\"Starting Station Latitude and Longitude\")\n",
    "plt.subplot(1,2,2)\n",
    "plt.scatter(metro_bike_trip_df['Ending_Station_Latitude'],metro_bike_trip_df['Ending_Station_Longitude'],alpha=0.3)\n",
    "plt.title(\"Ending Station Latitude and Longitude\")\n",
    "plt.show()"
   ]
  },
  {
   "cell_type": "markdown",
   "metadata": {},
   "source": [
    "#### Matching plots indicate there are no start points that had no drop off and vice-versa this would seem logical"
   ]
  },
  {
   "cell_type": "code",
   "execution_count": 51,
   "metadata": {},
   "outputs": [
    {
     "data": {
      "text/plain": [
       "True"
      ]
     },
     "execution_count": 51,
     "metadata": {},
     "output_type": "execute_result"
    }
   ],
   "source": [
    "sorted(metro_bike_trip_df['Starting_Station_ID'].unique())==sorted(metro_bike_trip_df['Ending_Station_ID'].unique())"
   ]
  },
  {
   "cell_type": "markdown",
   "metadata": {},
   "source": [
    "#### This confirms that the Starting and Ending Stations sets are identical as expected"
   ]
  },
  {
   "cell_type": "markdown",
   "metadata": {},
   "source": [
    "#### Now visually showing the location of stations on a map"
   ]
  },
  {
   "cell_type": "code",
   "execution_count": 52,
   "metadata": {},
   "outputs": [
    {
     "data": {
      "text/html": [
       "<div style=\"width:100%;\"><div style=\"position:relative;width:100%;height:0;padding-bottom:60%;\"><span style=\"color:#565656\">Make this Notebook Trusted to load map: File -> Trust Notebook</span><iframe src=\"about:blank\" style=\"position:absolute;width:100%;height:100%;left:0;top:0;border:none !important;\" data-html=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 onload=\"this.contentDocument.open();this.contentDocument.write(atob(this.getAttribute('data-html')));this.contentDocument.close();\" allowfullscreen webkitallowfullscreen mozallowfullscreen></iframe></div></div>"
      ],
      "text/plain": [
       "<folium.folium.Map at 0x1a270c9910>"
      ]
     },
     "execution_count": 52,
     "metadata": {},
     "output_type": "execute_result"
    }
   ],
   "source": [
    "bike_map1=folium.Map([metro_bike_trip_df['Starting_Station_Latitude'].values[0],metro_bike_trip_df['Starting_Station_Longitude'].values[0]])\n",
    "for station in metro_bike_trip_df['Starting_Station_ID'].unique():\n",
    "    lat=metro_bike_trip_df.loc[metro_bike_trip_df['Starting_Station_ID']==station]['Starting_Station_Latitude'].values[0]\n",
    "    lon=metro_bike_trip_df.loc[metro_bike_trip_df['Starting_Station_ID']==station]['Starting_Station_Longitude'].values[0]\n",
    "    marker=folium.Marker([lat,lon],popup=str(station))\n",
    "    marker.add_to(bike_map1)\n",
    "\n",
    "bike_map1"
   ]
  },
  {
   "cell_type": "markdown",
   "metadata": {},
   "source": [
    "#### All the Bike Stations are located in Downtown LA."
   ]
  },
  {
   "cell_type": "code",
   "execution_count": 53,
   "metadata": {},
   "outputs": [
    {
     "data": {
      "image/png": "[encoded data removed]",
      "text/plain": [
       "<Figure size 432x288 with 1 Axes>"
      ]
     },
     "metadata": {
      "needs_background": "light"
     },
     "output_type": "display_data"
    }
   ],
   "source": [
    "# Finding the most popular pick up time of any bike \n",
    "metro_bike_trip_df.Start_Time.dt.hour.value_counts().plot(kind='bar')\n",
    "plt.show()"
   ]
  },
  {
   "cell_type": "markdown",
   "metadata": {},
   "source": [
    "#### Most of the trips start after work hours (between 17.00 and 19.00). Lunch time is also active (between 12.00 and 14.00). It seems everybody sleeps after midnight, between 00.00 and 06.00 is the least active time."
   ]
  },
  {
   "cell_type": "code",
   "execution_count": 54,
   "metadata": {},
   "outputs": [],
   "source": [
    "# Finding the most popular trip\n",
    "trips_df = pd.DataFrame()\n",
    "trips_df = metro_bike_trip_df.groupby(['Starting_Station_ID','Ending_Station_ID']).size().reset_index(name = 'Number of Trips')\n",
    "trips_df = trips_df.sort_values('Number of Trips', ascending = False)\n",
    "trips_df['Starting_Station_ID'] = trips_df['Starting_Station_ID'].astype('str')\n",
    "trips_df['Ending_Station_ID'] = trips_df['Ending_Station_ID'].astype('str')\n",
    "trips_df[\"Trip\"] = trips_df[\"Starting_Station_ID\"] + \" to \" + trips_df[\"Ending_Station_ID\"]\n",
    "trips_df = trips_df[:10]\n",
    "trips_df = trips_df.drop(['Starting_Station_ID', \"Ending_Station_ID\"], axis = 1)\n",
    "trips_df = trips_df.reset_index()"
   ]
  },
  {
   "cell_type": "code",
   "execution_count": 55,
   "metadata": {},
   "outputs": [
    {
     "data": {
      "image/png": "[encoded data removed]",
      "text/plain": [
       "<Figure size 432x288 with 1 Axes>"
      ]
     },
     "metadata": {
      "needs_background": "light"
     },
     "output_type": "display_data"
    }
   ],
   "source": [
    "# Most popular trips\n",
    "g = sns.barplot('Number of Trips','Trip', data = trips_df)\n",
    "plt.title(\"Most Popular Trips\")\n",
    "for index, row in trips_df.iterrows():\n",
    "    g.text(row['Number of Trips']-50,index,row['Number of Trips'], \n",
    "             color='white', ha=\"center\",fontsize = 10)\n",
    "plt.show()"
   ]
  },
  {
   "cell_type": "markdown",
   "metadata": {},
   "source": [
    "#### Since the popular trip are very high, such stations should always be looked after and maintained. Such stations should never go out of bikes as people over there prefer to use bikes instead walking or using any other mode of transport. This will build a strong bike network for the city fo LA.  "
   ]
  },
  {
   "cell_type": "code",
   "execution_count": 56,
   "metadata": {},
   "outputs": [
    {
     "data": {
      "image/png": "[encoded data removed]",
      "text/plain": [
       "<Figure size 432x288 with 1 Axes>"
      ]
     },
     "metadata": {
      "needs_background": "light"
     },
     "output_type": "display_data"
    }
   ],
   "source": [
    "#Finding the trip duration \n",
    "# converting duration in min\n",
    "metro_bike_trip_df['Duration']/=60  \n",
    "metro_bike_trip_df['Duration'].hist(bins=80,range=(0,60))\n",
    "plt.show()"
   ]
  },
  {
   "cell_type": "markdown",
   "metadata": {},
   "source": [
    "#### It seems that majority of the trips are 5-30 minutes long beacuse according to LA metro rides less than 30 min are free for all pass type and after that they charge 1.75 dollar for each 30 min."
   ]
  },
  {
   "cell_type": "markdown",
   "metadata": {},
   "source": [
    "#### We are done with finding the popular bike, popular stations, popular location and popular trip. We will now find the popular passholder or the customer using the bikes and making maximum trips."
   ]
  },
  {
   "cell_type": "code",
   "execution_count": 57,
   "metadata": {},
   "outputs": [
    {
     "data": {
      "text/html": [
       "<div>\n",
       "<style scoped>\n",
       "    .dataframe tbody tr th:only-of-type {\n",
       "        vertical-align: middle;\n",
       "    }\n",
       "\n",
       "    .dataframe tbody tr th {\n",
       "        vertical-align: top;\n",
       "    }\n",
       "\n",
       "    .dataframe thead tr th {\n",
       "        text-align: left;\n",
       "    }\n",
       "\n",
       "    .dataframe thead tr:last-of-type th {\n",
       "        text-align: right;\n",
       "    }\n",
       "</style>\n",
       "<table border=\"1\" class=\"dataframe\">\n",
       "  <thead>\n",
       "    <tr>\n",
       "      <th></th>\n",
       "      <th></th>\n",
       "      <th>Trip_ID</th>\n",
       "    </tr>\n",
       "    <tr>\n",
       "      <th></th>\n",
       "      <th></th>\n",
       "      <th>count</th>\n",
       "    </tr>\n",
       "    <tr>\n",
       "      <th>Passholder_Type</th>\n",
       "      <th>Plan_Duration</th>\n",
       "      <th></th>\n",
       "    </tr>\n",
       "  </thead>\n",
       "  <tbody>\n",
       "    <tr>\n",
       "      <th>Flex Pass</th>\n",
       "      <th>365.0</th>\n",
       "      <td>7.369282</td>\n",
       "    </tr>\n",
       "    <tr>\n",
       "      <th>Monthly Pass</th>\n",
       "      <th>30.0</th>\n",
       "      <td>61.404549</td>\n",
       "    </tr>\n",
       "    <tr>\n",
       "      <th>Walk-up</th>\n",
       "      <th>0.0</th>\n",
       "      <td>31.226169</td>\n",
       "    </tr>\n",
       "  </tbody>\n",
       "</table>\n",
       "</div>"
      ],
      "text/plain": [
       "                                 Trip_ID\n",
       "                                   count\n",
       "Passholder_Type Plan_Duration           \n",
       "Flex Pass       365.0           7.369282\n",
       "Monthly Pass    30.0           61.404549\n",
       "Walk-up         0.0            31.226169"
      ]
     },
     "execution_count": 57,
     "metadata": {},
     "output_type": "execute_result"
    }
   ],
   "source": [
    "#Finding the famous passholder type according to plan duration\n",
    "metro_bike_trip_df[['Trip_ID','Passholder_Type','Plan_Duration']].groupby(['Passholder_Type','Plan_Duration']).agg(['count'])/len(metro_bike_trip_df)*100"
   ]
  },
  {
   "cell_type": "code",
   "execution_count": 60,
   "metadata": {},
   "outputs": [
    {
     "data": {
      "image/png": "[encoded data removed]",
      "text/plain": [
       "<Figure size 432x288 with 1 Axes>"
      ]
     },
     "metadata": {
      "needs_background": "light"
     },
     "output_type": "display_data"
    }
   ],
   "source": [
    "#Visually representing the passholder's type \n",
    "metro_bike_trip_df.Passholder_Type.value_counts().plot(kind='bar')\n",
    "plt.show()"
   ]
  },
  {
   "cell_type": "markdown",
   "metadata": {},
   "source": [
    "#### People generally prefer taking a monthly pass instead of walk-up and flex pass. We can confirm the above passholder type by calculating the plan duration."
   ]
  },
  {
   "cell_type": "code",
   "execution_count": 61,
   "metadata": {},
   "outputs": [
    {
     "data": {
      "image/png": "[encoded data removed]",
      "text/plain": [
       "<Figure size 432x288 with 1 Axes>"
      ]
     },
     "metadata": {},
     "output_type": "display_data"
    }
   ],
   "source": [
    "# Finding the Plan duration\n",
    "metro_bike_trip_df.Plan_Duration.value_counts().plot(kind  ='pie', autopct='%.2f')\n",
    "plt.show()"
   ]
  },
  {
   "cell_type": "code",
   "execution_count": 62,
   "metadata": {},
   "outputs": [
    {
     "data": {
      "image/png": "[encoded data removed]",
      "text/plain": [
       "<Figure size 1800x720 with 1 Axes>"
      ]
     },
     "metadata": {
      "needs_background": "light"
     },
     "output_type": "display_data"
    },
    {
     "data": {
      "image/png": "[encoded data removed]",
      "text/plain": [
       "<Figure size 1800x720 with 1 Axes>"
      ]
     },
     "metadata": {
      "needs_background": "light"
     },
     "output_type": "display_data"
    },
    {
     "data": {
      "image/png": "[encoded data removed]",
      "text/plain": [
       "<Figure size 1800x720 with 1 Axes>"
      ]
     },
     "metadata": {
      "needs_background": "light"
     },
     "output_type": "display_data"
    }
   ],
   "source": [
    "#Finding the peak time for different passholders\n",
    "#Separating date and time of Start Time and End Time \n",
    "\n",
    "new_dates, new_times = zip(*[(d.date(),d.time()) for d in metro_bike_trip_df['Start_Time']])\n",
    "metro_bike_trip_df = metro_bike_trip_df.assign(new_start_date=new_dates, new_start_time=new_times)\n",
    "\n",
    "new_dates, new_times = zip(*[(d.date(),d.time()) for d in metro_bike_trip_df['End_Time']])\n",
    "metro_bike_trip_df = metro_bike_trip_df.assign(new_end_date=new_dates, new_end_time=new_times)\n",
    "\n",
    "peaktime=pd.DataFrame([(d.hour+d.minute/60) for d in metro_bike_trip_df['new_start_time']])\n",
    "peaktime['Passholder_Type']=metro_bike_trip_df['Passholder_Type']\n",
    "for peak_hour in ['Monthly Pass','Walk-up','Flex Pass']:\n",
    "    (peaktime[peaktime['Passholder_Type']==peak_hour][0]).hist(bins=200,figsize=(25,10))\n",
    "    plt.xlabel('hour of day')\n",
    "    plt.ylabel('count')\n",
    "    plt.title(peak_hour)\n",
    "    plt.show()"
   ]
  },
  {
   "cell_type": "markdown",
   "metadata": {},
   "source": [
    "#### With the above graph we can say that the peak time for all the different passholder is almost same just the count of customers differs. "
   ]
  },
  {
   "cell_type": "code",
   "execution_count": 63,
   "metadata": {},
   "outputs": [],
   "source": [
    "# Finding the co relation between different passholder type and  different stations\n",
    "data = list()\n",
    "for ph in [\"Flex Pass\", \"Monthly Pass\", \"Walk-up\"]:\n",
    "    data.append(metro_bike_trip_df.loc[metro_bike_trip_df[\"Passholder_Type\"] == ph, \"Starting_Station_ID\"].dropna().value_counts())\n",
    "\n",
    "stations = pd.concat(data, axis=1, sort=False)\n",
    "station_names = list(stations.index)\n",
    "stations = stations.reset_index(drop=True)\n",
    "stations.columns = [\"Flex Pass\", \"Monthly Pass\", \"Walk-up\"]\n",
    "stations = stations.apply(lambda s: s/s.sum())"
   ]
  },
  {
   "cell_type": "code",
   "execution_count": 64,
   "metadata": {},
   "outputs": [
    {
     "data": {
      "image/png": "[encoded data removed]",
      "text/plain": [
       "<Figure size 432x288 with 2 Axes>"
      ]
     },
     "metadata": {
      "needs_background": "light"
     },
     "output_type": "display_data"
    }
   ],
   "source": [
    "# Correlation Matrix\n",
    "sns.heatmap(stations.corr(), annot=True)\n",
    "plt.show()"
   ]
  },
  {
   "cell_type": "markdown",
   "metadata": {},
   "source": [
    "#### The popularity of the different stations are relativelly equal betweeen different passes. We see the highest correlation between the flex and monthly pass."
   ]
  },
  {
   "cell_type": "code",
   "execution_count": 65,
   "metadata": {},
   "outputs": [
    {
     "data": {
      "text/plain": [
       "<matplotlib.legend.Legend at 0x1a2acabf50>"
      ]
     },
     "execution_count": 65,
     "metadata": {},
     "output_type": "execute_result"
    },
    {
     "data": {
      "image/png": "[encoded data removed]",
      "text/plain": [
       "<Figure size 1152x576 with 1 Axes>"
      ]
     },
     "metadata": {
      "needs_background": "light"
     },
     "output_type": "display_data"
    }
   ],
   "source": [
    "stations.plot(figsize=(16, 8))\n",
    "plt.xlabel(\"Stations\")\n",
    "plt.ylabel(\"Count of each station\")\n",
    "plt.legend()"
   ]
  },
  {
   "cell_type": "markdown",
   "metadata": {},
   "source": [
    "#### Many stations are very similar between the passes. Lets find the ones that differs the most between the monthly and daily pass."
   ]
  },
  {
   "cell_type": "code",
   "execution_count": 66,
   "metadata": {},
   "outputs": [
    {
     "name": "stdout",
     "output_type": "stream",
     "text": [
      " The 5 stations that differs most between the monthly and walk-up pass\n",
      "  [3069, 3030, 3014, 3064, 3016]\n"
     ]
    }
   ],
   "source": [
    "diff = stations[\"Monthly Pass\"] - stations[\"Walk-up\"]\n",
    "diff = diff.apply(abs).nlargest(5).index.map(lambda s: station_names[s])\n",
    "print(\" The 5 stations that differs most between the monthly and walk-up pass\\n \",list(diff))"
   ]
  },
  {
   "cell_type": "markdown",
   "metadata": {},
   "source": [
    "#### Bikes in some of these stations might be used daily so people over there prefer taking monthly pass instead of paying daily while some of those stations are used by people visiting near to that location as it may be a tourist location."
   ]
  },
  {
   "cell_type": "code",
   "execution_count": 67,
   "metadata": {},
   "outputs": [],
   "source": [
    "#Finding the trip duration by passholder type\n",
    "# Calculating trip duration based on tripduration(Seconds)\n",
    "trip_duration_for_passholder = pd.DataFrame()\n",
    "trip_duration_for_passholder['Avg. Trip Duration'] = round(metro_bike_trip_df.groupby('Passholder_Type')['Duration'].mean(),2)\n",
    "trip_duration_for_passholder = trip_duration_for_passholder.reset_index()\n",
    "trip_duration_for_passholder['Passholder_Type'] = trip_duration_for_passholder['Passholder_Type'].astype('object')"
   ]
  },
  {
   "cell_type": "code",
   "execution_count": 68,
   "metadata": {},
   "outputs": [
    {
     "data": {
      "image/png": "[encoded data removed]",
      "text/plain": [
       "<Figure size 432x288 with 1 Axes>"
      ]
     },
     "metadata": {
      "needs_background": "light"
     },
     "output_type": "display_data"
    }
   ],
   "source": [
    "# Average Trip Duration by Passholder Type \n",
    "average_trip_plot = sns.barplot('Passholder_Type', 'Avg. Trip Duration', data = trip_duration_for_passholder)\n",
    "plt.Figure(figsize=(15,12))\n",
    "plt.title(\"Average Trip Duration by Passholder Type\")\n",
    "# for index, row in trip_duration_for_passholder.iterrows():\n",
    "#     average_trip_plot.text(index,row['Avg. Trip Duration']-200,(str(row['Avg. Trip Duration'])+\"  Seconds\"), \n",
    "#              color='white', ha=\"center\", fontsize = 10)\n",
    "plt.show()"
   ]
  },
  {
   "cell_type": "markdown",
   "metadata": {},
   "source": [
    "#### Even though monthly pass frequency is high, walk-up people genreally prefer to use bike for longer duration. So we can say that monthly pass user are one that use bikes for near by location. "
   ]
  },
  {
   "cell_type": "markdown",
   "metadata": {},
   "source": [
    "#### Our goal is to predict the number of people using walk-up, monthly pass or flex pass for future trips. "
   ]
  },
  {
   "cell_type": "markdown",
   "metadata": {},
   "source": [
    "# Performing Modeling"
   ]
  },
  {
   "cell_type": "code",
   "execution_count": 69,
   "metadata": {},
   "outputs": [],
   "source": [
    "# To do so lets first find the distance between the starting and endind point by using starting latitude longitude with ending latitude longitude\n",
    "l = []\n",
    "for i in range(97825):\n",
    "    l.append(distance_on_unit_sphere(metro_bike_trip_df['Starting_Station_Latitude'].iloc[i],\n",
    "                                     metro_bike_trip_df['Starting_Station_Longitude'].iloc[i],\n",
    "                                     metro_bike_trip_df['Ending_Station_Latitude'].iloc[i],\n",
    "                                     metro_bike_trip_df['Ending_Station_Longitude'].iloc[i]))"
   ]
  },
  {
   "cell_type": "code",
   "execution_count": 70,
   "metadata": {},
   "outputs": [],
   "source": [
    "temp = pd.DataFrame(data=[metro_bike_trip_df['Duration'],\n",
    "                          metro_bike_trip_df['Starting_Station_Latitude'],\n",
    "                          metro_bike_trip_df['Starting_Station_Longitude'],\n",
    "                          metro_bike_trip_df['Ending_Station_Latitude'],\n",
    "                          metro_bike_trip_df['Ending_Station_Longitude'],\n",
    "                          metro_bike_trip_df['Plan_Duration']],\n",
    "                          index=['Duration',\n",
    "                                 'Starting_Station_Latitude',\n",
    "                                 'Starting_Station_Longitude',\n",
    "                                 'Ending_Station_Latitude',\n",
    "                                 'Ending_Station_Longitude',\n",
    "                                 'Plan_Duration'])"
   ]
  },
  {
   "cell_type": "code",
   "execution_count": 71,
   "metadata": {},
   "outputs": [
    {
     "name": "stdout",
     "output_type": "stream",
     "text": [
      "Shape of new train  (97825, 6)\n",
      "Shape of distance  (97825, 1)\n"
     ]
    }
   ],
   "source": [
    "distance = pd.DataFrame({'Distance':l})\n",
    "new_metro_bike_trip_df = temp.T\n",
    "print(\"Shape of new train \",new_metro_bike_trip_df.shape)\n",
    "print (\"Shape of distance \",distance.shape)"
   ]
  },
  {
   "cell_type": "code",
   "execution_count": 72,
   "metadata": {},
   "outputs": [
    {
     "name": "stdout",
     "output_type": "stream",
     "text": [
      "<class 'pandas.core.frame.DataFrame'>\n",
      "RangeIndex: 97825 entries, 0 to 97824\n",
      "Data columns (total 6 columns):\n",
      " #   Column                      Non-Null Count  Dtype  \n",
      "---  ------                      --------------  -----  \n",
      " 0   Duration                    97825 non-null  float64\n",
      " 1   Starting_Station_Latitude   97825 non-null  float64\n",
      " 2   Starting_Station_Longitude  97825 non-null  float64\n",
      " 3   Ending_Station_Latitude     97825 non-null  float64\n",
      " 4   Ending_Station_Longitude    97825 non-null  float64\n",
      " 5   Plan_Duration               97825 non-null  float64\n",
      "dtypes: float64(6)\n",
      "memory usage: 4.5 MB\n"
     ]
    }
   ],
   "source": [
    "new_metro_bike_trip_df = new_metro_bike_trip_df.reset_index(drop=True)\n",
    "new_metro_bike_trip_df.info()"
   ]
  },
  {
   "cell_type": "code",
   "execution_count": 73,
   "metadata": {},
   "outputs": [
    {
     "name": "stdout",
     "output_type": "stream",
     "text": [
      "<class 'pandas.core.frame.DataFrame'>\n",
      "RangeIndex: 97825 entries, 0 to 97824\n",
      "Data columns (total 11 columns):\n",
      " #   Column                      Non-Null Count  Dtype  \n",
      "---  ------                      --------------  -----  \n",
      " 0   Distance                    97825 non-null  float64\n",
      " 1   Duration                    97825 non-null  float64\n",
      " 2   Starting_Station_Latitude   97825 non-null  float64\n",
      " 3   Starting_Station_Longitude  97825 non-null  float64\n",
      " 4   Ending_Station_Latitude     97825 non-null  float64\n",
      " 5   Ending_Station_Longitude    97825 non-null  float64\n",
      " 6   Plan_Duration               97825 non-null  float64\n",
      " 7   Flex Pass                   97825 non-null  uint8  \n",
      " 8   Monthly Pass                97825 non-null  uint8  \n",
      " 9   Walk-up                     97825 non-null  uint8  \n",
      " 10  Round Trip                  97825 non-null  uint8  \n",
      "dtypes: float64(7), uint8(4)\n",
      "memory usage: 5.6 MB\n"
     ]
    }
   ],
   "source": [
    "new_metro_bike_trip_df = pd.concat([distance,\n",
    "                         new_metro_bike_trip_df,\n",
    "                         pd.get_dummies(data=metro_bike_trip_df['Passholder_Type']).reset_index(),\n",
    "                         pd.get_dummies(data=metro_bike_trip_df['Trip_Route_Category'],drop_first=True).reset_index()],\n",
    "                         axis=1)\n",
    "new_metro_bike_trip_df = new_metro_bike_trip_df.drop('index',axis=1)\n",
    "new_metro_bike_trip_df.info()"
   ]
  },
  {
   "cell_type": "code",
   "execution_count": 74,
   "metadata": {},
   "outputs": [
    {
     "name": "stdout",
     "output_type": "stream",
     "text": [
      "There are 3 different types of Passholder : \n"
     ]
    },
    {
     "data": {
      "text/plain": [
       "Monthly Pass    60069\n",
       "Walk-up         30547\n",
       "Flex Pass        7209\n",
       "Name: Passholder_Type, dtype: int64"
      ]
     },
     "execution_count": 74,
     "metadata": {},
     "output_type": "execute_result"
    }
   ],
   "source": [
    "print(\"There are 3 different types of Passholder : \")\n",
    "metro_bike_trip_df['Passholder_Type'].value_counts()"
   ]
  },
  {
   "cell_type": "markdown",
   "metadata": {},
   "source": [
    "### Performing modeling by using logistic regression to predict whether  the passholder type is \"Walk-up\" or \"not\""
   ]
  },
  {
   "cell_type": "code",
   "execution_count": 75,
   "metadata": {},
   "outputs": [
    {
     "name": "stdout",
     "output_type": "stream",
     "text": [
      "LogisticRegression(C=1.0, class_weight=None, dual=False, fit_intercept=True,\n",
      "                   intercept_scaling=1, l1_ratio=None, max_iter=100,\n",
      "                   multi_class='auto', n_jobs=None, penalty='l2',\n",
      "                   random_state=None, solver='lbfgs', tol=0.0001, verbose=0,\n",
      "                   warm_start=False)\n",
      "\n",
      " The classification report for Logistic Regression is: \n",
      "               precision    recall  f1-score   support\n",
      "\n",
      "           0       1.00      1.00      1.00     22283\n",
      "           1       1.00      1.00      1.00     10000\n",
      "\n",
      "    accuracy                           1.00     32283\n",
      "   macro avg       1.00      1.00      1.00     32283\n",
      "weighted avg       1.00      1.00      1.00     32283\n",
      "\n",
      "The Confusion Matrix for Logistic Regression is: \n",
      " [[22283     0]\n",
      " [    0 10000]]\n"
     ]
    }
   ],
   "source": [
    "# USING LOGISTIC REGRESSION TO PREDICT WHETHER THE PASSHOLDER TYPE IS \"Walk-up\" OR \"Not\"\n",
    "modeling_techniques_and_prediction(new_metro_bike_trip_df, 'Walk-up','logistic' )"
   ]
  },
  {
   "cell_type": "markdown",
   "metadata": {},
   "source": [
    "#### With the help of Logistic Regression and through the results of confusion matrix we were able to predict the walk-up passholder accurately."
   ]
  },
  {
   "cell_type": "markdown",
   "metadata": {},
   "source": [
    "### Peforming Modeling by using Random forest classifier to predict whether the passholder type is \"Monthly Pass\" or \"not\""
   ]
  },
  {
   "cell_type": "code",
   "execution_count": 76,
   "metadata": {},
   "outputs": [
    {
     "name": "stdout",
     "output_type": "stream",
     "text": [
      "RandomForestClassifier(bootstrap=True, ccp_alpha=0.0, class_weight=None,\n",
      "                       criterion='gini', max_depth=None, max_features='auto',\n",
      "                       max_leaf_nodes=None, max_samples=None,\n",
      "                       min_impurity_decrease=0.0, min_impurity_split=None,\n",
      "                       min_samples_leaf=1, min_samples_split=2,\n",
      "                       min_weight_fraction_leaf=0.0, n_estimators=100,\n",
      "                       n_jobs=None, oob_score=False, random_state=None,\n",
      "                       verbose=0, warm_start=False)\n",
      "\n",
      " The classification report for Random Forest is: \n",
      "               precision    recall  f1-score   support\n",
      "\n",
      "           0       1.00      1.00      1.00     12560\n",
      "           1       1.00      1.00      1.00     19723\n",
      "\n",
      "    accuracy                           1.00     32283\n",
      "   macro avg       1.00      1.00      1.00     32283\n",
      "weighted avg       1.00      1.00      1.00     32283\n",
      "\n",
      "The Confusion Matrix for Random Forest is: \n",
      " [[12560     0]\n",
      " [    0 19723]]\n"
     ]
    }
   ],
   "source": [
    "# USING RANDOM FOREST CLASSIFIER TO PREDICT WHETHER THE PASSHOLDER TYPE IS \"Monthly Pass\" OR \"Not\"\n",
    "modeling_techniques_and_prediction(new_metro_bike_trip_df, 'Monthly Pass','random' )"
   ]
  },
  {
   "cell_type": "markdown",
   "metadata": {},
   "source": [
    "#### With the help of Random Forest Classifier and through the results of confusion matrix we were able to predict the monthly passholder accurately. "
   ]
  },
  {
   "cell_type": "markdown",
   "metadata": {},
   "source": [
    "### Peforming Modeling by using Decision Tree classifier to predict whether the passholder type is \"Flex Pass\" or \"not\""
   ]
  },
  {
   "cell_type": "code",
   "execution_count": 77,
   "metadata": {},
   "outputs": [
    {
     "name": "stdout",
     "output_type": "stream",
     "text": [
      "DecisionTreeClassifier(ccp_alpha=0.0, class_weight=None, criterion='gini',\n",
      "                       max_depth=None, max_features=None, max_leaf_nodes=None,\n",
      "                       min_impurity_decrease=0.0, min_impurity_split=None,\n",
      "                       min_samples_leaf=1, min_samples_split=2,\n",
      "                       min_weight_fraction_leaf=0.0, presort='deprecated',\n",
      "                       random_state=None, splitter='best')\n",
      "\n",
      " The classification report for Decision Tree is: \n",
      "               precision    recall  f1-score   support\n",
      "\n",
      "           0       1.00      1.00      1.00     29836\n",
      "           1       1.00      1.00      1.00      2447\n",
      "\n",
      "    accuracy                           1.00     32283\n",
      "   macro avg       1.00      1.00      1.00     32283\n",
      "weighted avg       1.00      1.00      1.00     32283\n",
      "\n",
      "The Confusion Matrix for Decision Tree is: \n",
      " [[29836     0]\n",
      " [    0  2447]]\n"
     ]
    }
   ],
   "source": [
    "# USING DECISION TREE TO PREDICT WHETHER THE PASSHOLDER TYPE IS \"Flex Pass OR \"Not\"\n",
    "modeling_techniques_and_prediction(new_metro_bike_trip_df, 'Flex Pass','decision' )"
   ]
  },
  {
   "cell_type": "markdown",
   "metadata": {},
   "source": [
    "#### With the help of Decision Tree Classifier and through the results of confusion matrix we were able to predict the flex passholder accurately."
   ]
  },
  {
   "cell_type": "markdown",
   "metadata": {},
   "source": [
    "### Conclusion: \n",
    "* Successfully delivered and represented the popular stations,locations, bikes, trips and passholders\n",
    "* Imputed the missing value for the location and visually represented the stations location on a map\n",
    "* Visually represented the peak time of people using the bikes and also calculated the average duration of trips\n",
    "* Finally with the help of passholder we demonstrated accurate models of the riding patterns of different passholder types. \n",
    "* Therefore, with all the above result, more people are likely to enroll for monthly pass which means the stations should be maintained and improved in order to increase more customers for building a good bike sharing network."
   ]
  },
  {
   "cell_type": "code",
   "execution_count": null,
   "metadata": {},
   "outputs": [],
   "source": []
  }
 ],
 "metadata": {
  "kernelspec": {
   "display_name": "Python 3",
   "language": "python",
   "name": "python3"
  },
  "language_info": {
   "codemirror_mode": {
    "name": "ipython",
    "version": 3
   },
   "file_extension": ".py",
   "mimetype": "text/x-python",
   "name": "python",
   "nbconvert_exporter": "python",
   "pygments_lexer": "ipython3",
   "version": "3.7.6"
  }
 },
 "nbformat": 4,
 "nbformat_minor": 4
}

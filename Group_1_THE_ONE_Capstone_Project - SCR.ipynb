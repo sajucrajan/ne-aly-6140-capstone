{
 "cells": [
  {
   "cell_type": "markdown",
   "metadata": {},
   "source": [
    "### Aim: The dataset is hosted by city of Los Angeles named as \"Metro Bike Share Trip Data\". I will be analyzing the use of metro bikes in order to build a bike network that really works."
   ]
  },
  {
   "cell_type": "markdown",
   "metadata": {},
   "source": [
    "# Introduction\n",
    "This dataset is a catalogue of rides taken on the LA-Metro Bike Share Network.The Metro Bike Share system makes bikes available 24/7, 365 days a year in Downtown LA, Central LA, Port of LA and the Westside. Metro Bike Share offers convenient round-the-clock access to a fleet of bicycles for short trips. Metro Bike Share is one of LA Metro's multiple public transportation options for Angelenos and visitors to get around.\n",
    "\n",
    "Feature descriptions from https://bikeshare.metro.net/about/data/\n",
    "\n",
    "* trip_id: Locally unique integer that identifies the trip\n",
    "\n",
    "* duration: Length of trip in seconds\n",
    "\n",
    "* start_time: The date/time when the trip began, presented in ISO 8601 format in local time\n",
    "\n",
    "* end_time: The date/time when the trip ended, presented in ISO 8601 format in local time\n",
    "\n",
    "* start_station: The station ID where the trip originated\n",
    "\n",
    "* start_lat: The latitude of the station where the trip originated\n",
    "\n",
    "* start_lon: The longitude of the station where the trip originated\n",
    "\n",
    "* end_station: The station ID where the trip terminated\n",
    "\n",
    "* end_lat: The latitude of the station where the trip terminated\n",
    "\n",
    "* end_lon: The longitude of the station where the trip terminated\n",
    "\n",
    "* bike_id: Locally unique integer that identifies the bike\n",
    "\n",
    "* plan_duration: The number of days that the plan the passholder is using entitles them to ride; 0 is used for a single ride plan (Walk-up)\n",
    "\n",
    "* trip_route_category: \"Round Trip\" for trips starting and ending at the same station or \"One Way\" for all other trips\n",
    "\n",
    "* passholder_type: The name of the passholder's plan\n",
    "\n",
    "Other features are not officially described by Metro Bike Share\n",
    "\n",
    "Remaining features appear to be LA geographic information which we think is not relevant to our analysis, many of which include large amounts of missing data. So we have dropped those columns."
   ]
  },
  {
   "cell_type": "code",
   "execution_count": 1,
   "metadata": {
    "pycharm": {
     "name": "#%%\n"
    }
   },
   "outputs": [
    {
     "name": "stdout",
     "output_type": "stream",
     "text": [
      "Requirement already satisfied: folium in c:\\users\\schackorajan\\anaconda3\\lib\\site-packages (0.11.0)\n",
      "Requirement already satisfied: numpy in c:\\users\\schackorajan\\anaconda3\\lib\\site-packages (from folium) (1.18.1)\n",
      "Requirement already satisfied: requests in c:\\users\\schackorajan\\anaconda3\\lib\\site-packages (from folium) (2.22.0)\n",
      "Requirement already satisfied: jinja2>=2.9 in c:\\users\\schackorajan\\anaconda3\\lib\\site-packages (from folium) (2.11.1)\n",
      "Requirement already satisfied: branca>=0.3.0 in c:\\users\\schackorajan\\anaconda3\\lib\\site-packages (from folium) (0.4.1)\n",
      "Requirement already satisfied: urllib3!=1.25.0,!=1.25.1,<1.26,>=1.21.1 in c:\\users\\schackorajan\\anaconda3\\lib\\site-packages (from requests->folium) (1.25.8)\n",
      "Requirement already satisfied: chardet<3.1.0,>=3.0.2 in c:\\users\\schackorajan\\anaconda3\\lib\\site-packages (from requests->folium) (3.0.4)\n",
      "Requirement already satisfied: certifi>=2017.4.17 in c:\\users\\schackorajan\\anaconda3\\lib\\site-packages (from requests->folium) (2019.11.28)\n",
      "Requirement already satisfied: idna<2.9,>=2.5 in c:\\users\\schackorajan\\anaconda3\\lib\\site-packages (from requests->folium) (2.8)\n",
      "Requirement already satisfied: MarkupSafe>=0.23 in c:\\users\\schackorajan\\anaconda3\\lib\\site-packages (from jinja2>=2.9->folium) (1.1.1)\n",
      "Note: you may need to restart the kernel to use updated packages.\n"
     ]
    }
   ],
   "source": [
    "pip install folium"
   ]
  },
  {
   "cell_type": "code",
   "execution_count": 2,
   "metadata": {
    "pycharm": {
     "name": "#%%\n"
    }
   },
   "outputs": [],
   "source": [
    "import pandas as pd\n",
    "import folium\n",
    "import matplotlib.pyplot as plt\n",
    "import seaborn as sns\n",
    "import calendar\n",
    "from datetime import datetime\n",
    "\n",
    "%matplotlib inline\n",
    "#from Ronak_Somani_Capstone_Project_Code import distance_on_unit_sphere\n",
    "#from Ronak_Somani_Capstone_Project_Code import modeling_techniques_and_prediction"
   ]
  },
  {
   "cell_type": "markdown",
   "metadata": {},
   "source": [
    "# Data Extraction"
   ]
  },
  {
   "cell_type": "code",
   "execution_count": 3,
   "metadata": {
    "pycharm": {
     "name": "#%%\n"
    }
   },
   "outputs": [
    {
     "name": "stdout",
     "output_type": "stream",
     "text": [
      "Shape of the metro bike trip dataframe\n"
     ]
    },
    {
     "data": {
      "text/plain": [
       "(132427, 22)"
      ]
     },
     "execution_count": 3,
     "metadata": {},
     "output_type": "execute_result"
    }
   ],
   "source": [
    "# Read the data from the csv file\n",
    "metro_bike_trip_df =  pd.read_csv(\"metro-bike-share-trip-data.csv\")\n",
    "print(\"Shape of the metro bike trip dataframe\")\n",
    "metro_bike_trip_df.shape"
   ]
  },
  {
   "cell_type": "code",
   "execution_count": 4,
   "metadata": {
    "pycharm": {
     "name": "#%%\n"
    }
   },
   "outputs": [
    {
     "data": {
      "text/html": [
       "<div>\n",
       "<style scoped>\n",
       "    .dataframe tbody tr th:only-of-type {\n",
       "        vertical-align: middle;\n",
       "    }\n",
       "\n",
       "    .dataframe tbody tr th {\n",
       "        vertical-align: top;\n",
       "    }\n",
       "\n",
       "    .dataframe thead th {\n",
       "        text-align: right;\n",
       "    }\n",
       "</style>\n",
       "<table border=\"1\" class=\"dataframe\">\n",
       "  <thead>\n",
       "    <tr style=\"text-align: right;\">\n",
       "      <th></th>\n",
       "      <th>Trip_ID</th>\n",
       "      <th>Duration</th>\n",
       "      <th>Start_Time</th>\n",
       "      <th>End_Time</th>\n",
       "      <th>Starting_Station_ID</th>\n",
       "      <th>Starting_Station_Latitude</th>\n",
       "      <th>Starting_Station_Longitude</th>\n",
       "      <th>Ending_Station_ID</th>\n",
       "      <th>Ending_Station_Latitude</th>\n",
       "      <th>Ending_Station_Longitude</th>\n",
       "      <th>...</th>\n",
       "      <th>Trip_Route_Category</th>\n",
       "      <th>Passholder_Type</th>\n",
       "      <th>Starting_Lat-Long</th>\n",
       "      <th>Ending_Lat-Long</th>\n",
       "      <th>Neighborhood_Councils_(Certified)</th>\n",
       "      <th>Council_Districts</th>\n",
       "      <th>Zip_Codes</th>\n",
       "      <th>LA_Specific_Plans</th>\n",
       "      <th>Precinct_Boundaries</th>\n",
       "      <th>Census_Tracts</th>\n",
       "    </tr>\n",
       "  </thead>\n",
       "  <tbody>\n",
       "    <tr>\n",
       "      <th>0</th>\n",
       "      <td>18222186</td>\n",
       "      <td>15060</td>\n",
       "      <td>2017-01-19T17:05:00.000</td>\n",
       "      <td>2017-01-19T21:16:00.000</td>\n",
       "      <td>3031.0</td>\n",
       "      <td>34.044701</td>\n",
       "      <td>-118.252441</td>\n",
       "      <td>3000.0</td>\n",
       "      <td>NaN</td>\n",
       "      <td>NaN</td>\n",
       "      <td>...</td>\n",
       "      <td>One Way</td>\n",
       "      <td>Walk-up</td>\n",
       "      <td>NaN</td>\n",
       "      <td>NaN</td>\n",
       "      <td>NaN</td>\n",
       "      <td>NaN</td>\n",
       "      <td>NaN</td>\n",
       "      <td>NaN</td>\n",
       "      <td>NaN</td>\n",
       "      <td>NaN</td>\n",
       "    </tr>\n",
       "    <tr>\n",
       "      <th>1</th>\n",
       "      <td>9518671</td>\n",
       "      <td>77160</td>\n",
       "      <td>2016-10-09T14:37:00.000</td>\n",
       "      <td>2016-10-10T12:03:00.000</td>\n",
       "      <td>NaN</td>\n",
       "      <td>NaN</td>\n",
       "      <td>NaN</td>\n",
       "      <td>3000.0</td>\n",
       "      <td>NaN</td>\n",
       "      <td>NaN</td>\n",
       "      <td>...</td>\n",
       "      <td>One Way</td>\n",
       "      <td>Monthly Pass</td>\n",
       "      <td>NaN</td>\n",
       "      <td>NaN</td>\n",
       "      <td>NaN</td>\n",
       "      <td>NaN</td>\n",
       "      <td>NaN</td>\n",
       "      <td>NaN</td>\n",
       "      <td>NaN</td>\n",
       "      <td>NaN</td>\n",
       "    </tr>\n",
       "    <tr>\n",
       "      <th>2</th>\n",
       "      <td>20444932</td>\n",
       "      <td>86400</td>\n",
       "      <td>2017-02-18T10:15:00.000</td>\n",
       "      <td>2017-02-20T15:20:00.000</td>\n",
       "      <td>3026.0</td>\n",
       "      <td>34.063179</td>\n",
       "      <td>-118.245880</td>\n",
       "      <td>3000.0</td>\n",
       "      <td>NaN</td>\n",
       "      <td>NaN</td>\n",
       "      <td>...</td>\n",
       "      <td>One Way</td>\n",
       "      <td>Walk-up</td>\n",
       "      <td>NaN</td>\n",
       "      <td>NaN</td>\n",
       "      <td>NaN</td>\n",
       "      <td>NaN</td>\n",
       "      <td>NaN</td>\n",
       "      <td>NaN</td>\n",
       "      <td>NaN</td>\n",
       "      <td>NaN</td>\n",
       "    </tr>\n",
       "    <tr>\n",
       "      <th>3</th>\n",
       "      <td>20905031</td>\n",
       "      <td>18840</td>\n",
       "      <td>2017-02-27T12:26:00.000</td>\n",
       "      <td>2017-02-27T17:40:00.000</td>\n",
       "      <td>3023.0</td>\n",
       "      <td>34.050911</td>\n",
       "      <td>-118.240967</td>\n",
       "      <td>3000.0</td>\n",
       "      <td>NaN</td>\n",
       "      <td>NaN</td>\n",
       "      <td>...</td>\n",
       "      <td>One Way</td>\n",
       "      <td>Walk-up</td>\n",
       "      <td>NaN</td>\n",
       "      <td>NaN</td>\n",
       "      <td>NaN</td>\n",
       "      <td>NaN</td>\n",
       "      <td>NaN</td>\n",
       "      <td>NaN</td>\n",
       "      <td>NaN</td>\n",
       "      <td>NaN</td>\n",
       "    </tr>\n",
       "    <tr>\n",
       "      <th>4</th>\n",
       "      <td>21031476</td>\n",
       "      <td>86400</td>\n",
       "      <td>2017-02-27T20:26:00.000</td>\n",
       "      <td>2017-03-01T09:49:00.000</td>\n",
       "      <td>3008.0</td>\n",
       "      <td>34.046612</td>\n",
       "      <td>-118.262733</td>\n",
       "      <td>3000.0</td>\n",
       "      <td>NaN</td>\n",
       "      <td>NaN</td>\n",
       "      <td>...</td>\n",
       "      <td>One Way</td>\n",
       "      <td>Flex Pass</td>\n",
       "      <td>NaN</td>\n",
       "      <td>NaN</td>\n",
       "      <td>NaN</td>\n",
       "      <td>NaN</td>\n",
       "      <td>NaN</td>\n",
       "      <td>NaN</td>\n",
       "      <td>NaN</td>\n",
       "      <td>NaN</td>\n",
       "    </tr>\n",
       "  </tbody>\n",
       "</table>\n",
       "<p>5 rows × 22 columns</p>\n",
       "</div>"
      ],
      "text/plain": [
       "    Trip_ID  Duration               Start_Time                 End_Time  \\\n",
       "0  18222186     15060  2017-01-19T17:05:00.000  2017-01-19T21:16:00.000   \n",
       "1   9518671     77160  2016-10-09T14:37:00.000  2016-10-10T12:03:00.000   \n",
       "2  20444932     86400  2017-02-18T10:15:00.000  2017-02-20T15:20:00.000   \n",
       "3  20905031     18840  2017-02-27T12:26:00.000  2017-02-27T17:40:00.000   \n",
       "4  21031476     86400  2017-02-27T20:26:00.000  2017-03-01T09:49:00.000   \n",
       "\n",
       "   Starting_Station_ID  Starting_Station_Latitude  Starting_Station_Longitude  \\\n",
       "0               3031.0                  34.044701                 -118.252441   \n",
       "1                  NaN                        NaN                         NaN   \n",
       "2               3026.0                  34.063179                 -118.245880   \n",
       "3               3023.0                  34.050911                 -118.240967   \n",
       "4               3008.0                  34.046612                 -118.262733   \n",
       "\n",
       "   Ending_Station_ID  Ending_Station_Latitude  Ending_Station_Longitude  ...  \\\n",
       "0             3000.0                      NaN                       NaN  ...   \n",
       "1             3000.0                      NaN                       NaN  ...   \n",
       "2             3000.0                      NaN                       NaN  ...   \n",
       "3             3000.0                      NaN                       NaN  ...   \n",
       "4             3000.0                      NaN                       NaN  ...   \n",
       "\n",
       "   Trip_Route_Category  Passholder_Type Starting_Lat-Long Ending_Lat-Long  \\\n",
       "0              One Way          Walk-up               NaN             NaN   \n",
       "1              One Way     Monthly Pass               NaN             NaN   \n",
       "2              One Way          Walk-up               NaN             NaN   \n",
       "3              One Way          Walk-up               NaN             NaN   \n",
       "4              One Way        Flex Pass               NaN             NaN   \n",
       "\n",
       "  Neighborhood_Councils_(Certified) Council_Districts  Zip_Codes  \\\n",
       "0                               NaN               NaN        NaN   \n",
       "1                               NaN               NaN        NaN   \n",
       "2                               NaN               NaN        NaN   \n",
       "3                               NaN               NaN        NaN   \n",
       "4                               NaN               NaN        NaN   \n",
       "\n",
       "   LA_Specific_Plans  Precinct_Boundaries  Census_Tracts  \n",
       "0                NaN                  NaN            NaN  \n",
       "1                NaN                  NaN            NaN  \n",
       "2                NaN                  NaN            NaN  \n",
       "3                NaN                  NaN            NaN  \n",
       "4                NaN                  NaN            NaN  \n",
       "\n",
       "[5 rows x 22 columns]"
      ]
     },
     "execution_count": 4,
     "metadata": {},
     "output_type": "execute_result"
    }
   ],
   "source": [
    "#Replacing the column name space with \"_\" for easier name conversion\n",
    "metro_bike_trip_df.columns = metro_bike_trip_df.columns.str.replace(' ','_')\n",
    "metro_bike_trip_df.head(5)"
   ]
  },
  {
   "cell_type": "code",
   "execution_count": 5,
   "metadata": {
    "pycharm": {
     "name": "#%%\n"
    }
   },
   "outputs": [
    {
     "name": "stdout",
     "output_type": "stream",
     "text": [
      "<class 'pandas.core.frame.DataFrame'>\n",
      "RangeIndex: 132427 entries, 0 to 132426\n",
      "Data columns (total 22 columns):\n",
      " #   Column                             Non-Null Count   Dtype  \n",
      "---  ------                             --------------   -----  \n",
      " 0   Trip_ID                            132427 non-null  int64  \n",
      " 1   Duration                           132427 non-null  int64  \n",
      " 2   Start_Time                         132427 non-null  object \n",
      " 3   End_Time                           132427 non-null  object \n",
      " 4   Starting_Station_ID                132408 non-null  float64\n",
      " 5   Starting_Station_Latitude          132379 non-null  float64\n",
      " 6   Starting_Station_Longitude         132379 non-null  float64\n",
      " 7   Ending_Station_ID                  132331 non-null  float64\n",
      " 8   Ending_Station_Latitude            131376 non-null  float64\n",
      " 9   Ending_Station_Longitude           131376 non-null  float64\n",
      " 10  Bike_ID                            132417 non-null  float64\n",
      " 11  Plan_Duration                      131661 non-null  float64\n",
      " 12  Trip_Route_Category                132427 non-null  object \n",
      " 13  Passholder_Type                    132427 non-null  object \n",
      " 14  Starting_Lat-Long                  98622 non-null   object \n",
      " 15  Ending_Lat-Long                    131376 non-null  object \n",
      " 16  Neighborhood_Councils_(Certified)  98590 non-null   float64\n",
      " 17  Council_Districts                  98590 non-null   float64\n",
      " 18  Zip_Codes                          98590 non-null   float64\n",
      " 19  LA_Specific_Plans                  15837 non-null   float64\n",
      " 20  Precinct_Boundaries                131328 non-null  float64\n",
      " 21  Census_Tracts                      131328 non-null  float64\n",
      "dtypes: float64(14), int64(2), object(6)\n",
      "memory usage: 22.2+ MB\n"
     ]
    }
   ],
   "source": [
    "metro_bike_trip_df.info()"
   ]
  },
  {
   "cell_type": "code",
   "execution_count": 6,
   "metadata": {
    "pycharm": {
     "name": "#%%\n"
    }
   },
   "outputs": [
    {
     "name": "stdout",
     "output_type": "stream",
     "text": [
      "shape: (132427, 22)\n"
     ]
    }
   ],
   "source": [
    "print(\"shape:\", metro_bike_trip_df.shape)"
   ]
  },
  {
   "cell_type": "code",
   "execution_count": 7,
   "metadata": {
    "pycharm": {
     "name": "#%%\n"
    }
   },
   "outputs": [
    {
     "name": "stdout",
     "output_type": "stream",
     "text": [
      "<class 'pandas.core.frame.DataFrame'>\n",
      "RangeIndex: 132427 entries, 0 to 132426\n",
      "Data columns (total 22 columns):\n",
      " #   Column                             Non-Null Count   Dtype         \n",
      "---  ------                             --------------   -----         \n",
      " 0   Trip_ID                            132427 non-null  int64         \n",
      " 1   Duration                           132427 non-null  int64         \n",
      " 2   Start_Time                         132427 non-null  datetime64[ns]\n",
      " 3   End_Time                           132427 non-null  datetime64[ns]\n",
      " 4   Starting_Station_ID                132408 non-null  float64       \n",
      " 5   Starting_Station_Latitude          132379 non-null  float64       \n",
      " 6   Starting_Station_Longitude         132379 non-null  float64       \n",
      " 7   Ending_Station_ID                  132331 non-null  float64       \n",
      " 8   Ending_Station_Latitude            131376 non-null  float64       \n",
      " 9   Ending_Station_Longitude           131376 non-null  float64       \n",
      " 10  Bike_ID                            132417 non-null  float64       \n",
      " 11  Plan_Duration                      131661 non-null  float64       \n",
      " 12  Trip_Route_Category                132427 non-null  object        \n",
      " 13  Passholder_Type                    132427 non-null  object        \n",
      " 14  Starting_Lat-Long                  98622 non-null   object        \n",
      " 15  Ending_Lat-Long                    131376 non-null  object        \n",
      " 16  Neighborhood_Councils_(Certified)  98590 non-null   float64       \n",
      " 17  Council_Districts                  98590 non-null   float64       \n",
      " 18  Zip_Codes                          98590 non-null   float64       \n",
      " 19  LA_Specific_Plans                  15837 non-null   float64       \n",
      " 20  Precinct_Boundaries                131328 non-null  float64       \n",
      " 21  Census_Tracts                      131328 non-null  float64       \n",
      "dtypes: datetime64[ns](2), float64(14), int64(2), object(4)\n",
      "memory usage: 22.2+ MB\n"
     ]
    }
   ],
   "source": [
    "# Changing Start and End Time values to datetime format\n",
    "metro_bike_trip_df['Start_Time']=pd.to_datetime(metro_bike_trip_df['Start_Time'])\n",
    "metro_bike_trip_df['End_Time']=pd.to_datetime(metro_bike_trip_df['End_Time'])\n",
    "metro_bike_trip_df.info()"
   ]
  },
  {
   "cell_type": "markdown",
   "metadata": {},
   "source": [
    "# Data Cleaning"
   ]
  },
  {
   "cell_type": "code",
   "execution_count": 8,
   "metadata": {
    "pycharm": {
     "name": "#%%\n"
    }
   },
   "outputs": [
    {
     "data": {
      "text/plain": [
       "Trip_ID                                   0\n",
       "Duration                                  0\n",
       "Start_Time                                0\n",
       "End_Time                                  0\n",
       "Starting_Station_ID                      19\n",
       "Starting_Station_Latitude                48\n",
       "Starting_Station_Longitude               48\n",
       "Ending_Station_ID                        96\n",
       "Ending_Station_Latitude                1051\n",
       "Ending_Station_Longitude               1051\n",
       "Bike_ID                                  10\n",
       "Plan_Duration                           766\n",
       "Trip_Route_Category                       0\n",
       "Passholder_Type                           0\n",
       "Starting_Lat-Long                     33805\n",
       "Ending_Lat-Long                        1051\n",
       "Neighborhood_Councils_(Certified)     33837\n",
       "Council_Districts                     33837\n",
       "Zip_Codes                             33837\n",
       "LA_Specific_Plans                    116590\n",
       "Precinct_Boundaries                    1099\n",
       "Census_Tracts                          1099\n",
       "dtype: int64"
      ]
     },
     "execution_count": 8,
     "metadata": {},
     "output_type": "execute_result"
    }
   ],
   "source": [
    "# Finding the null values in each column\n",
    "metro_bike_trip_df.isnull().sum()"
   ]
  },
  {
   "cell_type": "code",
   "execution_count": 9,
   "metadata": {
    "pycharm": {
     "name": "#%%\n"
    }
   },
   "outputs": [
    {
     "data": {
      "text/plain": [
       "<matplotlib.axes._subplots.AxesSubplot at 0x268993bc488>"
      ]
     },
     "execution_count": 9,
     "metadata": {},
     "output_type": "execute_result"
    },
    {
     "data": {
      "image/png": "[encoded data removed]",
      "text/plain": [
       "<Figure size 432x288 with 1 Axes>"
      ]
     },
     "metadata": {
      "needs_background": "light"
     },
     "output_type": "display_data"
    }
   ],
   "source": [
    "# Visually representing the null values of different columns using heatmap\n",
    "sns.heatmap(metro_bike_trip_df.isnull(),yticklabels=False,cbar=False,cmap='viridis')"
   ]
  },
  {
   "cell_type": "code",
   "execution_count": 10,
   "metadata": {
    "pycharm": {
     "name": "#%%\n"
    }
   },
   "outputs": [],
   "source": [
    "# Dropping below columns due to lack of data and more of null values\n",
    "metro_bike_trip_df.drop(columns=['Neighborhood_Councils_(Certified)',\n",
    "                 'Council_Districts',\n",
    "                 'Zip_Codes',\n",
    "                 'LA_Specific_Plans',\n",
    "                 'Precinct_Boundaries',\n",
    "                 'Census_Tracts'],\n",
    "       inplace=True)"
   ]
  },
  {
   "cell_type": "code",
   "execution_count": 11,
   "metadata": {
    "pycharm": {
     "name": "#%%\n"
    }
   },
   "outputs": [
    {
     "name": "stdout",
     "output_type": "stream",
     "text": [
      "<class 'pandas.core.frame.DataFrame'>\n",
      "Int64Index: 97825 entries, 2088 to 132426\n",
      "Data columns (total 16 columns):\n",
      " #   Column                      Non-Null Count  Dtype         \n",
      "---  ------                      --------------  -----         \n",
      " 0   Trip_ID                     97825 non-null  int64         \n",
      " 1   Duration                    97825 non-null  int64         \n",
      " 2   Start_Time                  97825 non-null  datetime64[ns]\n",
      " 3   End_Time                    97825 non-null  datetime64[ns]\n",
      " 4   Starting_Station_ID         97825 non-null  float64       \n",
      " 5   Starting_Station_Latitude   97825 non-null  float64       \n",
      " 6   Starting_Station_Longitude  97825 non-null  float64       \n",
      " 7   Ending_Station_ID           97825 non-null  float64       \n",
      " 8   Ending_Station_Latitude     97825 non-null  float64       \n",
      " 9   Ending_Station_Longitude    97825 non-null  float64       \n",
      " 10  Bike_ID                     97825 non-null  float64       \n",
      " 11  Plan_Duration               97825 non-null  float64       \n",
      " 12  Trip_Route_Category         97825 non-null  object        \n",
      " 13  Passholder_Type             97825 non-null  object        \n",
      " 14  Starting_Lat-Long           97825 non-null  object        \n",
      " 15  Ending_Lat-Long             97825 non-null  object        \n",
      "dtypes: datetime64[ns](2), float64(8), int64(2), object(4)\n",
      "memory usage: 12.7+ MB\n"
     ]
    }
   ],
   "source": [
    "# Droping the na values from the metro bike trip data\n",
    "metro_bike_trip_df = metro_bike_trip_df.dropna()\n",
    "metro_bike_trip_df.info()"
   ]
  },
  {
   "cell_type": "code",
   "execution_count": 12,
   "metadata": {
    "pycharm": {
     "name": "#%%\n"
    }
   },
   "outputs": [
    {
     "data": {
      "text/html": [
       "<div>\n",
       "<style scoped>\n",
       "    .dataframe tbody tr th:only-of-type {\n",
       "        vertical-align: middle;\n",
       "    }\n",
       "\n",
       "    .dataframe tbody tr th {\n",
       "        vertical-align: top;\n",
       "    }\n",
       "\n",
       "    .dataframe thead th {\n",
       "        text-align: right;\n",
       "    }\n",
       "</style>\n",
       "<table border=\"1\" class=\"dataframe\">\n",
       "  <thead>\n",
       "    <tr style=\"text-align: right;\">\n",
       "      <th></th>\n",
       "      <th>Trip_ID</th>\n",
       "      <th>Duration</th>\n",
       "      <th>Start_Time</th>\n",
       "      <th>End_Time</th>\n",
       "      <th>Starting_Station_ID</th>\n",
       "      <th>Starting_Station_Latitude</th>\n",
       "      <th>Starting_Station_Longitude</th>\n",
       "      <th>Ending_Station_ID</th>\n",
       "      <th>Ending_Station_Latitude</th>\n",
       "      <th>Ending_Station_Longitude</th>\n",
       "      <th>Bike_ID</th>\n",
       "      <th>Plan_Duration</th>\n",
       "      <th>Trip_Route_Category</th>\n",
       "      <th>Passholder_Type</th>\n",
       "      <th>Starting_Lat-Long</th>\n",
       "      <th>Ending_Lat-Long</th>\n",
       "      <th>Weekday</th>\n",
       "    </tr>\n",
       "  </thead>\n",
       "  <tbody>\n",
       "    <tr>\n",
       "      <th>2088</th>\n",
       "      <td>2023364</td>\n",
       "      <td>1980</td>\n",
       "      <td>2016-07-08 09:24:00</td>\n",
       "      <td>2016-07-08 09:57:00</td>\n",
       "      <td>3045</td>\n",
       "      <td>34.028511</td>\n",
       "      <td>-118.25667</td>\n",
       "      <td>3045</td>\n",
       "      <td>34.028511</td>\n",
       "      <td>-118.25667</td>\n",
       "      <td>5833</td>\n",
       "      <td>30.0</td>\n",
       "      <td>Round Trip</td>\n",
       "      <td>Monthly Pass</td>\n",
       "      <td>{'longitude': '-118.25667', 'latitude': '34.02...</td>\n",
       "      <td>{'longitude': '-118.25667', 'latitude': '34.02...</td>\n",
       "      <td>Friday</td>\n",
       "    </tr>\n",
       "    <tr>\n",
       "      <th>2089</th>\n",
       "      <td>2027211</td>\n",
       "      <td>180</td>\n",
       "      <td>2016-07-08 10:40:00</td>\n",
       "      <td>2016-07-08 10:43:00</td>\n",
       "      <td>4108</td>\n",
       "      <td>0.000000</td>\n",
       "      <td>0.00000</td>\n",
       "      <td>4108</td>\n",
       "      <td>0.000000</td>\n",
       "      <td>0.00000</td>\n",
       "      <td>6065</td>\n",
       "      <td>30.0</td>\n",
       "      <td>Round Trip</td>\n",
       "      <td>Monthly Pass</td>\n",
       "      <td>{'longitude': '0.0', 'latitude': '0.0'}</td>\n",
       "      <td>{'longitude': '0.0', 'latitude': '0.0'}</td>\n",
       "      <td>Friday</td>\n",
       "    </tr>\n",
       "    <tr>\n",
       "      <th>2090</th>\n",
       "      <td>2035311</td>\n",
       "      <td>780</td>\n",
       "      <td>2016-07-08 12:42:00</td>\n",
       "      <td>2016-07-08 12:55:00</td>\n",
       "      <td>3029</td>\n",
       "      <td>34.048851</td>\n",
       "      <td>-118.24642</td>\n",
       "      <td>3029</td>\n",
       "      <td>34.048851</td>\n",
       "      <td>-118.24642</td>\n",
       "      <td>6011</td>\n",
       "      <td>0.0</td>\n",
       "      <td>Round Trip</td>\n",
       "      <td>Walk-up</td>\n",
       "      <td>{'longitude': '-118.24642', 'latitude': '34.04...</td>\n",
       "      <td>{'longitude': '-118.24642', 'latitude': '34.04...</td>\n",
       "      <td>Friday</td>\n",
       "    </tr>\n",
       "    <tr>\n",
       "      <th>2091</th>\n",
       "      <td>2182651</td>\n",
       "      <td>4440</td>\n",
       "      <td>2016-07-09 19:08:00</td>\n",
       "      <td>2016-07-09 20:22:00</td>\n",
       "      <td>3045</td>\n",
       "      <td>34.028511</td>\n",
       "      <td>-118.25667</td>\n",
       "      <td>3045</td>\n",
       "      <td>34.028511</td>\n",
       "      <td>-118.25667</td>\n",
       "      <td>6623</td>\n",
       "      <td>30.0</td>\n",
       "      <td>Round Trip</td>\n",
       "      <td>Monthly Pass</td>\n",
       "      <td>{'longitude': '-118.25667', 'latitude': '34.02...</td>\n",
       "      <td>{'longitude': '-118.25667', 'latitude': '34.02...</td>\n",
       "      <td>Saturday</td>\n",
       "    </tr>\n",
       "    <tr>\n",
       "      <th>2092</th>\n",
       "      <td>2286870</td>\n",
       "      <td>5220</td>\n",
       "      <td>2016-07-10 10:56:00</td>\n",
       "      <td>2016-07-10 12:23:00</td>\n",
       "      <td>3045</td>\n",
       "      <td>34.028511</td>\n",
       "      <td>-118.25667</td>\n",
       "      <td>3045</td>\n",
       "      <td>34.028511</td>\n",
       "      <td>-118.25667</td>\n",
       "      <td>6210</td>\n",
       "      <td>30.0</td>\n",
       "      <td>Round Trip</td>\n",
       "      <td>Monthly Pass</td>\n",
       "      <td>{'longitude': '-118.25667', 'latitude': '34.02...</td>\n",
       "      <td>{'longitude': '-118.25667', 'latitude': '34.02...</td>\n",
       "      <td>Sunday</td>\n",
       "    </tr>\n",
       "    <tr>\n",
       "      <th>2093</th>\n",
       "      <td>2492936</td>\n",
       "      <td>9600</td>\n",
       "      <td>2016-07-11 15:08:00</td>\n",
       "      <td>2016-07-11 17:48:00</td>\n",
       "      <td>4108</td>\n",
       "      <td>0.000000</td>\n",
       "      <td>0.00000</td>\n",
       "      <td>4108</td>\n",
       "      <td>0.000000</td>\n",
       "      <td>0.00000</td>\n",
       "      <td>6286</td>\n",
       "      <td>30.0</td>\n",
       "      <td>Round Trip</td>\n",
       "      <td>Monthly Pass</td>\n",
       "      <td>{'longitude': '0.0', 'latitude': '0.0'}</td>\n",
       "      <td>{'longitude': '0.0', 'latitude': '0.0'}</td>\n",
       "      <td>Monday</td>\n",
       "    </tr>\n",
       "    <tr>\n",
       "      <th>2094</th>\n",
       "      <td>2547346</td>\n",
       "      <td>900</td>\n",
       "      <td>2016-07-11 23:52:00</td>\n",
       "      <td>2016-07-12 00:07:00</td>\n",
       "      <td>3026</td>\n",
       "      <td>34.063179</td>\n",
       "      <td>-118.24588</td>\n",
       "      <td>3026</td>\n",
       "      <td>34.063179</td>\n",
       "      <td>-118.24588</td>\n",
       "      <td>6491</td>\n",
       "      <td>365.0</td>\n",
       "      <td>Round Trip</td>\n",
       "      <td>Flex Pass</td>\n",
       "      <td>{'longitude': '-118.24588', 'latitude': '34.06...</td>\n",
       "      <td>{'longitude': '-118.24588', 'latitude': '34.06...</td>\n",
       "      <td>Monday</td>\n",
       "    </tr>\n",
       "    <tr>\n",
       "      <th>2095</th>\n",
       "      <td>2630413</td>\n",
       "      <td>120</td>\n",
       "      <td>2016-07-12 11:53:00</td>\n",
       "      <td>2016-07-12 11:55:00</td>\n",
       "      <td>4108</td>\n",
       "      <td>0.000000</td>\n",
       "      <td>0.00000</td>\n",
       "      <td>4108</td>\n",
       "      <td>0.000000</td>\n",
       "      <td>0.00000</td>\n",
       "      <td>6054</td>\n",
       "      <td>30.0</td>\n",
       "      <td>Round Trip</td>\n",
       "      <td>Monthly Pass</td>\n",
       "      <td>{'longitude': '0.0', 'latitude': '0.0'}</td>\n",
       "      <td>{'longitude': '0.0', 'latitude': '0.0'}</td>\n",
       "      <td>Tuesday</td>\n",
       "    </tr>\n",
       "    <tr>\n",
       "      <th>2096</th>\n",
       "      <td>2655087</td>\n",
       "      <td>180</td>\n",
       "      <td>2016-07-12 14:00:00</td>\n",
       "      <td>2016-07-12 14:03:00</td>\n",
       "      <td>3029</td>\n",
       "      <td>34.048851</td>\n",
       "      <td>-118.24642</td>\n",
       "      <td>3029</td>\n",
       "      <td>34.048851</td>\n",
       "      <td>-118.24642</td>\n",
       "      <td>6309</td>\n",
       "      <td>365.0</td>\n",
       "      <td>Round Trip</td>\n",
       "      <td>Flex Pass</td>\n",
       "      <td>{'longitude': '-118.24642', 'latitude': '34.04...</td>\n",
       "      <td>{'longitude': '-118.24642', 'latitude': '34.04...</td>\n",
       "      <td>Tuesday</td>\n",
       "    </tr>\n",
       "    <tr>\n",
       "      <th>2097</th>\n",
       "      <td>2778431</td>\n",
       "      <td>1620</td>\n",
       "      <td>2016-07-13 11:23:00</td>\n",
       "      <td>2016-07-13 11:50:00</td>\n",
       "      <td>4108</td>\n",
       "      <td>0.000000</td>\n",
       "      <td>0.00000</td>\n",
       "      <td>4108</td>\n",
       "      <td>0.000000</td>\n",
       "      <td>0.00000</td>\n",
       "      <td>6092</td>\n",
       "      <td>30.0</td>\n",
       "      <td>Round Trip</td>\n",
       "      <td>Monthly Pass</td>\n",
       "      <td>{'longitude': '0.0', 'latitude': '0.0'}</td>\n",
       "      <td>{'longitude': '0.0', 'latitude': '0.0'}</td>\n",
       "      <td>Wednesday</td>\n",
       "    </tr>\n",
       "  </tbody>\n",
       "</table>\n",
       "</div>"
      ],
      "text/plain": [
       "      Trip_ID  Duration          Start_Time            End_Time  \\\n",
       "2088  2023364      1980 2016-07-08 09:24:00 2016-07-08 09:57:00   \n",
       "2089  2027211       180 2016-07-08 10:40:00 2016-07-08 10:43:00   \n",
       "2090  2035311       780 2016-07-08 12:42:00 2016-07-08 12:55:00   \n",
       "2091  2182651      4440 2016-07-09 19:08:00 2016-07-09 20:22:00   \n",
       "2092  2286870      5220 2016-07-10 10:56:00 2016-07-10 12:23:00   \n",
       "2093  2492936      9600 2016-07-11 15:08:00 2016-07-11 17:48:00   \n",
       "2094  2547346       900 2016-07-11 23:52:00 2016-07-12 00:07:00   \n",
       "2095  2630413       120 2016-07-12 11:53:00 2016-07-12 11:55:00   \n",
       "2096  2655087       180 2016-07-12 14:00:00 2016-07-12 14:03:00   \n",
       "2097  2778431      1620 2016-07-13 11:23:00 2016-07-13 11:50:00   \n",
       "\n",
       "      Starting_Station_ID  Starting_Station_Latitude  \\\n",
       "2088                 3045                  34.028511   \n",
       "2089                 4108                   0.000000   \n",
       "2090                 3029                  34.048851   \n",
       "2091                 3045                  34.028511   \n",
       "2092                 3045                  34.028511   \n",
       "2093                 4108                   0.000000   \n",
       "2094                 3026                  34.063179   \n",
       "2095                 4108                   0.000000   \n",
       "2096                 3029                  34.048851   \n",
       "2097                 4108                   0.000000   \n",
       "\n",
       "      Starting_Station_Longitude  Ending_Station_ID  Ending_Station_Latitude  \\\n",
       "2088                  -118.25667               3045                34.028511   \n",
       "2089                     0.00000               4108                 0.000000   \n",
       "2090                  -118.24642               3029                34.048851   \n",
       "2091                  -118.25667               3045                34.028511   \n",
       "2092                  -118.25667               3045                34.028511   \n",
       "2093                     0.00000               4108                 0.000000   \n",
       "2094                  -118.24588               3026                34.063179   \n",
       "2095                     0.00000               4108                 0.000000   \n",
       "2096                  -118.24642               3029                34.048851   \n",
       "2097                     0.00000               4108                 0.000000   \n",
       "\n",
       "      Ending_Station_Longitude  Bike_ID  Plan_Duration Trip_Route_Category  \\\n",
       "2088                -118.25667     5833           30.0          Round Trip   \n",
       "2089                   0.00000     6065           30.0          Round Trip   \n",
       "2090                -118.24642     6011            0.0          Round Trip   \n",
       "2091                -118.25667     6623           30.0          Round Trip   \n",
       "2092                -118.25667     6210           30.0          Round Trip   \n",
       "2093                   0.00000     6286           30.0          Round Trip   \n",
       "2094                -118.24588     6491          365.0          Round Trip   \n",
       "2095                   0.00000     6054           30.0          Round Trip   \n",
       "2096                -118.24642     6309          365.0          Round Trip   \n",
       "2097                   0.00000     6092           30.0          Round Trip   \n",
       "\n",
       "     Passholder_Type                                  Starting_Lat-Long  \\\n",
       "2088    Monthly Pass  {'longitude': '-118.25667', 'latitude': '34.02...   \n",
       "2089    Monthly Pass            {'longitude': '0.0', 'latitude': '0.0'}   \n",
       "2090         Walk-up  {'longitude': '-118.24642', 'latitude': '34.04...   \n",
       "2091    Monthly Pass  {'longitude': '-118.25667', 'latitude': '34.02...   \n",
       "2092    Monthly Pass  {'longitude': '-118.25667', 'latitude': '34.02...   \n",
       "2093    Monthly Pass            {'longitude': '0.0', 'latitude': '0.0'}   \n",
       "2094       Flex Pass  {'longitude': '-118.24588', 'latitude': '34.06...   \n",
       "2095    Monthly Pass            {'longitude': '0.0', 'latitude': '0.0'}   \n",
       "2096       Flex Pass  {'longitude': '-118.24642', 'latitude': '34.04...   \n",
       "2097    Monthly Pass            {'longitude': '0.0', 'latitude': '0.0'}   \n",
       "\n",
       "                                        Ending_Lat-Long    Weekday  \n",
       "2088  {'longitude': '-118.25667', 'latitude': '34.02...     Friday  \n",
       "2089            {'longitude': '0.0', 'latitude': '0.0'}     Friday  \n",
       "2090  {'longitude': '-118.24642', 'latitude': '34.04...     Friday  \n",
       "2091  {'longitude': '-118.25667', 'latitude': '34.02...   Saturday  \n",
       "2092  {'longitude': '-118.25667', 'latitude': '34.02...     Sunday  \n",
       "2093            {'longitude': '0.0', 'latitude': '0.0'}     Monday  \n",
       "2094  {'longitude': '-118.24588', 'latitude': '34.06...     Monday  \n",
       "2095            {'longitude': '0.0', 'latitude': '0.0'}    Tuesday  \n",
       "2096  {'longitude': '-118.24642', 'latitude': '34.04...    Tuesday  \n",
       "2097            {'longitude': '0.0', 'latitude': '0.0'}  Wednesday  "
      ]
     },
     "execution_count": 12,
     "metadata": {},
     "output_type": "execute_result"
    }
   ],
   "source": [
    "# Change format of station and bike ID's to integer.\n",
    "metro_bike_trip_df['Starting_Station_ID'] = metro_bike_trip_df.Starting_Station_ID.astype(int)\n",
    "metro_bike_trip_df['Ending_Station_ID'] = metro_bike_trip_df.Ending_Station_ID.astype(int)\n",
    "metro_bike_trip_df['Bike_ID'] = metro_bike_trip_df.Bike_ID.astype(int)\n",
    "metro_bike_trip_df['Start_Time'] = metro_bike_trip_df.Start_Time.astype('datetime64[ns]')\n",
    "\n",
    "# Extract the weekday integer from Start_Time timestamp to the Weekday\n",
    "# Had to use lambda expressions to apply the weekday to each object since it doesnt function on a series object\n",
    "df_weekday = ['Monday', 'Tuesday', 'Wednesday', 'Thursday', 'Friday', 'Saturday', 'Sunday']\n",
    "metro_bike_trip_df['Weekday'] = metro_bike_trip_df.apply(lambda x:\n",
    "                                                        df_weekday[x['Start_Time'].weekday()], axis = 1)\n",
    "\n",
    "\n",
    "\n",
    "\n",
    "metro_bike_trip_df.head(10)"
   ]
  },
  {
   "cell_type": "code",
   "execution_count": 13,
   "metadata": {
    "pycharm": {
     "name": "#%%\n"
    }
   },
   "outputs": [
    {
     "name": "stdout",
     "output_type": "stream",
     "text": [
      "Total number of Starting stations: 64\n",
      "Total number of Ending stations: 64\n",
      "Total number of bikes: 762\n"
     ]
    }
   ],
   "source": [
    "# Now we will find the total number of stations and total number of bikes \n",
    "print(\"Total number of Starting stations:\", metro_bike_trip_df.Starting_Station_ID.nunique())\n",
    "print(\"Total number of Ending stations:\", metro_bike_trip_df.Ending_Station_ID.nunique())\n",
    "print(\"Total number of bikes:\",metro_bike_trip_df.Bike_ID.nunique())"
   ]
  },
  {
   "cell_type": "markdown",
   "metadata": {},
   "source": [
    "# Performing Exploratory Data Analysis for the Bike Trip Data"
   ]
  },
  {
   "cell_type": "markdown",
   "metadata": {},
   "source": [
    "* ### Finding the trip route category and ploting it in the form of bar graph"
   ]
  },
  {
   "cell_type": "code",
   "execution_count": 14,
   "metadata": {
    "pycharm": {
     "name": "#%%\n"
    }
   },
   "outputs": [
    {
     "data": {
      "text/plain": [
       "[Text(0, 0.5, 'Count'),\n",
       " Text(0.5, 0, 'Trip Categories'),\n",
       " Text(0.5, 1.0, 'Comparison of Overall Trip Route categories in the available dataset')]"
      ]
     },
     "execution_count": 14,
     "metadata": {},
     "output_type": "execute_result"
    },
    {
     "data": {
      "image/png": "[encoded data removed]",
      "text/plain": [
       "<Figure size 720x720 with 1 Axes>"
      ]
     },
     "metadata": {},
     "output_type": "display_data"
    }
   ],
   "source": [
    "# Set style to whitegrid for better readability\n",
    "sns.set(style=\"whitegrid\", font_scale=1.5)\n",
    "\n",
    "# Plot two countplot with \n",
    "# x axis as Trip Route Category eg, One Way or Round Trip\n",
    "# y axis as count of trips\n",
    "# Plot 1 overall comparison of Trip Route Category\n",
    "# Plot 2 weekday Trip Route Category\n",
    "fig, (ax1) = plt.subplots(nrows=1, sharey=True, figsize=(10, 10))\n",
    "\n",
    "sns.countplot(\n",
    "    x = \"Trip_Route_Category\", \n",
    "    data = metro_bike_trip_df, \n",
    "    ax = ax1,\n",
    "    palette = \"hls\").set(\n",
    "        title = 'Comparison of Overall Trip Route categories in the available dataset', \n",
    "        xlabel = 'Trip Categories', \n",
    "        ylabel = 'Count')"
   ]
  },
  {
   "cell_type": "markdown",
   "metadata": {},
   "source": [
    "> This provides us a insight into the general tendency of a rider.  The EDA points to the likelyhood that a higher percentage of riders wants to use the bike for a one way trip."
   ]
  },
  {
   "cell_type": "markdown",
   "metadata": {},
   "source": [
    "* ### Finding the trip route category per weekday and ploting it in the form of bar graph"
   ]
  },
  {
   "cell_type": "code",
   "execution_count": 15,
   "metadata": {
    "pycharm": {
     "name": "#%%\n"
    }
   },
   "outputs": [
    {
     "data": {
      "text/plain": [
       "[Text(0, 0.5, 'Count'),\n",
       " Text(0.5, 0, 'Weekday'),\n",
       " Text(0.5, 1.0, 'Comparison of Weekday Trip Count in the available dataset')]"
      ]
     },
     "execution_count": 15,
     "metadata": {},
     "output_type": "execute_result"
    },
    {
     "data": {
      "image/png": "[encoded data removed]",
      "text/plain": [
       "<Figure size 1440x864 with 2 Axes>"
      ]
     },
     "metadata": {},
     "output_type": "display_data"
    }
   ],
   "source": [
    "# Set style to whitegrid for better readability\n",
    "sns.set(style=\"whitegrid\", font_scale=1.5)\n",
    "\n",
    "# Plot two countplot with \n",
    "# x axis as Trip Route Category eg, One Way or Round Trip\n",
    "# y axis as count of trips\n",
    "# Plot 1 weekday Trip Route Category\n",
    "# Plot 2 weekday trip count plots\n",
    "fig, (ax1, ax2) = plt.subplots(ncols=2, sharey=True, figsize=(20, 12))\n",
    "\n",
    "# Plot a countplot with \n",
    "# x axis as Weekday \n",
    "# y axis as count of trips per weekday\n",
    "# Trip Route Category eg, One Way or Round Trip\n",
    "sns.countplot(\n",
    "    x = \"Weekday\",\n",
    "    hue = \"Trip_Route_Category\", \n",
    "    data = metro_bike_trip_df, \n",
    "    ax = ax1,\n",
    "    palette = \"bone\").set(\n",
    "        title = 'Comparison of each Weekday Trip Route categories in the available dataset', \n",
    "        xlabel = 'Weekday', \n",
    "        ylabel = 'Count')\n",
    "\n",
    "sns.countplot(\n",
    "    x = \"Weekday\",\n",
    "    data = metro_bike_trip_df, \n",
    "    ax = ax2,\n",
    "    palette = \"cool\").set(\n",
    "        title = 'Comparison of Weekday Trip Count in the available dataset', \n",
    "        xlabel = 'Weekday', \n",
    "        ylabel = 'Count')"
   ]
  },
  {
   "cell_type": "markdown",
   "metadata": {},
   "source": [
    "> The above graph also supports the previous analysis that even during weekdays the general tendency of preferring One Way trip over Round Trip by the customers.  However, we also see a slight increase of Round Trip riders during weekends, i.e. Saturday and Sunday and a similar drop in the One Way riders.\n",
    "\n",
    "> This also could be due to the fact that overal number of riders reduced during weekends since some regular riders may prefer to stay home compared to a regular weekday while the tourists or younger population would prefer to go out and chill.\n",
    "\n",
    "> It would make sense to plot out a weeday rider count comparison to give a better idea about rider count changes during the week.  So hence the second graph.  \n",
    "\n",
    "> The second graph provide a little bit more view into a drop of rider counts during Sunday.  But the interesting thing to note here is that there is drop in rider count on Monday also."
   ]
  },
  {
   "cell_type": "markdown",
   "metadata": {},
   "source": [
    "* ### Business hours periods that bike rentals are at peak. \n",
    "* ### Finding the most popular pick up time of any bike."
   ]
  },
  {
   "cell_type": "code",
   "execution_count": 16,
   "metadata": {
    "pycharm": {
     "name": "#%%\n"
    }
   },
   "outputs": [
    {
     "data": {
      "text/plain": [
       "[Text(0, 0.5, 'Count'),\n",
       " Text(0.5, 0, 'Drop Window'),\n",
       " Text(0.5, 1.0, 'Comparison of Peak Drop Windows')]"
      ]
     },
     "execution_count": 16,
     "metadata": {},
     "output_type": "execute_result"
    },
    {
     "data": {
      "image/png": "[encoded data removed]",
      "text/plain": [
       "<Figure size 1440x864 with 2 Axes>"
      ]
     },
     "metadata": {},
     "output_type": "display_data"
    }
   ],
   "source": [
    "# Prepare the hourly window of pickup and drop\n",
    "metro_bike_trip_df['Pickup_Window'] = metro_bike_trip_df['Start_Time'].dt.hour\n",
    "metro_bike_trip_df['Drop_Window'] = metro_bike_trip_df['End_Time'].dt.hour\n",
    "\n",
    "# Set style to whitegrid for better readability\n",
    "sns.set(style=\"whitegrid\", font_scale=1.5)\n",
    "\n",
    "# Plot two countplot with \n",
    "# x axis as Trip Route Category eg, One Way or Round Trip\n",
    "# y axis as count of trips\n",
    "# Plot 1 weekday Trip Route Category\n",
    "# Plot 2 weekday trip count plots\n",
    "fig, (ax1, ax2) = plt.subplots(ncols=2, sharey=True, figsize=(20, 12))\n",
    "\n",
    "# Plot a countplot with \n",
    "# x axis as Weekday \n",
    "# y axis as count of trips per weekday\n",
    "# Trip Route Category eg, One Way or Round Trip\n",
    "sns.countplot(\n",
    "    x = \"Pickup_Window\",\n",
    "    data = metro_bike_trip_df, \n",
    "    ax = ax1,\n",
    "    palette = \"winter\").set(\n",
    "        title = 'Comparison of Peak Pickup Windows', \n",
    "        xlabel = 'Pickup Window', \n",
    "        ylabel = 'Count')\n",
    "\n",
    "sns.countplot(\n",
    "    x = \"Drop_Window\",\n",
    "    data = metro_bike_trip_df, \n",
    "    ax = ax2,\n",
    "    palette = \"gnuplot\").set(\n",
    "        title = 'Comparison of Peak Drop Windows', \n",
    "        xlabel = 'Drop Window', \n",
    "        ylabel = 'Count')"
   ]
  },
  {
   "cell_type": "code",
   "execution_count": null,
   "metadata": {
    "pycharm": {
     "name": "#%%\n"
    }
   },
   "outputs": [],
   "source": []
  },
  {
   "cell_type": "markdown",
   "metadata": {},
   "source": [
    "> The above analysis give us insight regarding the peak pickup and drop windows.  The peak times for both pickup and drop is a 4 hour window between evening 4:00 P.M. to 7:00 P.M. and there is also 2 hour peak during lunch hours of 11:00 A.M. to 12:00 P.M."
   ]
  },
  {
   "cell_type": "markdown",
   "metadata": {},
   "source": [
    "* ### Finding the maximum and minimum trip duration"
   ]
  },
  {
   "cell_type": "code",
   "execution_count": 17,
   "metadata": {
    "pycharm": {
     "name": "#%%\n"
    }
   },
   "outputs": [],
   "source": [
    "# Prepare the dataframe to contain total trip duration in seconds that can be used to find the max duration trip and min duration trip\n",
    "metro_bike_trip_df['Trip_Duration'] = metro_bike_trip_df.End_Time - metro_bike_trip_df.Start_Time\n",
    "metro_bike_trip_df['Trip_Duration_Seconds'] = metro_bike_trip_df.Trip_Duration.dt.total_seconds()"
   ]
  },
  {
   "cell_type": "markdown",
   "metadata": {},
   "source": [
    "> Following is the maximum duration trip from the dataset."
   ]
  },
  {
   "cell_type": "code",
   "execution_count": 18,
   "metadata": {
    "pycharm": {
     "name": "#%%\n"
    }
   },
   "outputs": [
    {
     "data": {
      "text/html": [
       "<div>\n",
       "<style scoped>\n",
       "    .dataframe tbody tr th:only-of-type {\n",
       "        vertical-align: middle;\n",
       "    }\n",
       "\n",
       "    .dataframe tbody tr th {\n",
       "        vertical-align: top;\n",
       "    }\n",
       "\n",
       "    .dataframe thead th {\n",
       "        text-align: right;\n",
       "    }\n",
       "</style>\n",
       "<table border=\"1\" class=\"dataframe\">\n",
       "  <thead>\n",
       "    <tr style=\"text-align: right;\">\n",
       "      <th></th>\n",
       "      <th>Trip_ID</th>\n",
       "      <th>Duration</th>\n",
       "      <th>Start_Time</th>\n",
       "      <th>End_Time</th>\n",
       "      <th>Starting_Station_ID</th>\n",
       "      <th>Starting_Station_Latitude</th>\n",
       "      <th>Starting_Station_Longitude</th>\n",
       "      <th>Ending_Station_ID</th>\n",
       "      <th>Ending_Station_Latitude</th>\n",
       "      <th>Ending_Station_Longitude</th>\n",
       "      <th>...</th>\n",
       "      <th>Plan_Duration</th>\n",
       "      <th>Trip_Route_Category</th>\n",
       "      <th>Passholder_Type</th>\n",
       "      <th>Starting_Lat-Long</th>\n",
       "      <th>Ending_Lat-Long</th>\n",
       "      <th>Weekday</th>\n",
       "      <th>Pickup_Window</th>\n",
       "      <th>Drop_Window</th>\n",
       "      <th>Trip_Duration</th>\n",
       "      <th>Trip_Duration_Seconds</th>\n",
       "    </tr>\n",
       "  </thead>\n",
       "  <tbody>\n",
       "    <tr>\n",
       "      <th>123643</th>\n",
       "      <td>5082350</td>\n",
       "      <td>86400</td>\n",
       "      <td>2016-08-15 21:13:00</td>\n",
       "      <td>2016-08-21 13:41:00</td>\n",
       "      <td>3010</td>\n",
       "      <td>34.037048</td>\n",
       "      <td>-118.25487</td>\n",
       "      <td>3055</td>\n",
       "      <td>34.044159</td>\n",
       "      <td>-118.25158</td>\n",
       "      <td>...</td>\n",
       "      <td>30.0</td>\n",
       "      <td>One Way</td>\n",
       "      <td>Monthly Pass</td>\n",
       "      <td>{'longitude': '-118.25487', 'latitude': '34.03...</td>\n",
       "      <td>{'longitude': '-118.25158', 'latitude': '34.04...</td>\n",
       "      <td>Monday</td>\n",
       "      <td>21</td>\n",
       "      <td>13</td>\n",
       "      <td>5 days 16:28:00</td>\n",
       "      <td>491280.0</td>\n",
       "    </tr>\n",
       "  </tbody>\n",
       "</table>\n",
       "<p>1 rows × 21 columns</p>\n",
       "</div>"
      ],
      "text/plain": [
       "        Trip_ID  Duration          Start_Time            End_Time  \\\n",
       "123643  5082350     86400 2016-08-15 21:13:00 2016-08-21 13:41:00   \n",
       "\n",
       "        Starting_Station_ID  Starting_Station_Latitude  \\\n",
       "123643                 3010                  34.037048   \n",
       "\n",
       "        Starting_Station_Longitude  Ending_Station_ID  \\\n",
       "123643                  -118.25487               3055   \n",
       "\n",
       "        Ending_Station_Latitude  Ending_Station_Longitude  ...  Plan_Duration  \\\n",
       "123643                34.044159                -118.25158  ...           30.0   \n",
       "\n",
       "        Trip_Route_Category Passholder_Type  \\\n",
       "123643              One Way    Monthly Pass   \n",
       "\n",
       "                                        Starting_Lat-Long  \\\n",
       "123643  {'longitude': '-118.25487', 'latitude': '34.03...   \n",
       "\n",
       "                                          Ending_Lat-Long Weekday  \\\n",
       "123643  {'longitude': '-118.25158', 'latitude': '34.04...  Monday   \n",
       "\n",
       "       Pickup_Window  Drop_Window   Trip_Duration Trip_Duration_Seconds  \n",
       "123643            21           13 5 days 16:28:00              491280.0  \n",
       "\n",
       "[1 rows x 21 columns]"
      ]
     },
     "execution_count": 18,
     "metadata": {},
     "output_type": "execute_result"
    }
   ],
   "source": [
    "metro_bike_trip_df.nlargest(1, ['Trip_Duration_Seconds'], keep = 'all')"
   ]
  },
  {
   "cell_type": "markdown",
   "metadata": {},
   "source": [
    "> Following are the minimum duration trip from the dataset."
   ]
  },
  {
   "cell_type": "code",
   "execution_count": 19,
   "metadata": {
    "pycharm": {
     "name": "#%%\n"
    }
   },
   "outputs": [
    {
     "data": {
      "text/html": [
       "<div>\n",
       "<style scoped>\n",
       "    .dataframe tbody tr th:only-of-type {\n",
       "        vertical-align: middle;\n",
       "    }\n",
       "\n",
       "    .dataframe tbody tr th {\n",
       "        vertical-align: top;\n",
       "    }\n",
       "\n",
       "    .dataframe thead th {\n",
       "        text-align: right;\n",
       "    }\n",
       "</style>\n",
       "<table border=\"1\" class=\"dataframe\">\n",
       "  <thead>\n",
       "    <tr style=\"text-align: right;\">\n",
       "      <th></th>\n",
       "      <th>Trip_ID</th>\n",
       "      <th>Duration</th>\n",
       "      <th>Start_Time</th>\n",
       "      <th>End_Time</th>\n",
       "      <th>Starting_Station_ID</th>\n",
       "      <th>Starting_Station_Latitude</th>\n",
       "      <th>Starting_Station_Longitude</th>\n",
       "      <th>Ending_Station_ID</th>\n",
       "      <th>Ending_Station_Latitude</th>\n",
       "      <th>Ending_Station_Longitude</th>\n",
       "      <th>...</th>\n",
       "      <th>Plan_Duration</th>\n",
       "      <th>Trip_Route_Category</th>\n",
       "      <th>Passholder_Type</th>\n",
       "      <th>Starting_Lat-Long</th>\n",
       "      <th>Ending_Lat-Long</th>\n",
       "      <th>Weekday</th>\n",
       "      <th>Pickup_Window</th>\n",
       "      <th>Drop_Window</th>\n",
       "      <th>Trip_Duration</th>\n",
       "      <th>Trip_Duration_Seconds</th>\n",
       "    </tr>\n",
       "  </thead>\n",
       "  <tbody>\n",
       "    <tr>\n",
       "      <th>2415</th>\n",
       "      <td>12998065</td>\n",
       "      <td>60</td>\n",
       "      <td>2016-11-10 21:28:00</td>\n",
       "      <td>2016-11-10 21:29:00</td>\n",
       "      <td>3064</td>\n",
       "      <td>34.046810</td>\n",
       "      <td>-118.256981</td>\n",
       "      <td>3064</td>\n",
       "      <td>34.046810</td>\n",
       "      <td>-118.256981</td>\n",
       "      <td>...</td>\n",
       "      <td>0.0</td>\n",
       "      <td>Round Trip</td>\n",
       "      <td>Walk-up</td>\n",
       "      <td>{'longitude': '-118.256981', 'latitude': '34.0...</td>\n",
       "      <td>{'longitude': '-118.256981', 'latitude': '34.0...</td>\n",
       "      <td>Thursday</td>\n",
       "      <td>21</td>\n",
       "      <td>21</td>\n",
       "      <td>00:01:00</td>\n",
       "      <td>60.0</td>\n",
       "    </tr>\n",
       "    <tr>\n",
       "      <th>2846</th>\n",
       "      <td>11586730</td>\n",
       "      <td>60</td>\n",
       "      <td>2016-10-28 13:58:00</td>\n",
       "      <td>2016-10-28 13:59:00</td>\n",
       "      <td>3064</td>\n",
       "      <td>34.046810</td>\n",
       "      <td>-118.256981</td>\n",
       "      <td>3064</td>\n",
       "      <td>34.046810</td>\n",
       "      <td>-118.256981</td>\n",
       "      <td>...</td>\n",
       "      <td>30.0</td>\n",
       "      <td>Round Trip</td>\n",
       "      <td>Monthly Pass</td>\n",
       "      <td>{'longitude': '-118.256981', 'latitude': '34.0...</td>\n",
       "      <td>{'longitude': '-118.256981', 'latitude': '34.0...</td>\n",
       "      <td>Friday</td>\n",
       "      <td>13</td>\n",
       "      <td>13</td>\n",
       "      <td>00:01:00</td>\n",
       "      <td>60.0</td>\n",
       "    </tr>\n",
       "    <tr>\n",
       "      <th>3021</th>\n",
       "      <td>15124543</td>\n",
       "      <td>60</td>\n",
       "      <td>2016-12-04 23:32:00</td>\n",
       "      <td>2016-12-04 23:33:00</td>\n",
       "      <td>3030</td>\n",
       "      <td>34.051941</td>\n",
       "      <td>-118.243530</td>\n",
       "      <td>3042</td>\n",
       "      <td>34.049301</td>\n",
       "      <td>-118.238808</td>\n",
       "      <td>...</td>\n",
       "      <td>30.0</td>\n",
       "      <td>One Way</td>\n",
       "      <td>Monthly Pass</td>\n",
       "      <td>{'longitude': '-118.24353', 'latitude': '34.05...</td>\n",
       "      <td>{'longitude': '-118.238808', 'latitude': '34.0...</td>\n",
       "      <td>Sunday</td>\n",
       "      <td>23</td>\n",
       "      <td>23</td>\n",
       "      <td>00:01:00</td>\n",
       "      <td>60.0</td>\n",
       "    </tr>\n",
       "    <tr>\n",
       "      <th>3386</th>\n",
       "      <td>16385712</td>\n",
       "      <td>60</td>\n",
       "      <td>2016-12-20 11:59:00</td>\n",
       "      <td>2016-12-20 12:00:00</td>\n",
       "      <td>3069</td>\n",
       "      <td>34.050880</td>\n",
       "      <td>-118.248253</td>\n",
       "      <td>3069</td>\n",
       "      <td>34.050880</td>\n",
       "      <td>-118.248253</td>\n",
       "      <td>...</td>\n",
       "      <td>30.0</td>\n",
       "      <td>Round Trip</td>\n",
       "      <td>Monthly Pass</td>\n",
       "      <td>{'longitude': '-118.248253', 'latitude': '34.0...</td>\n",
       "      <td>{'longitude': '-118.248253', 'latitude': '34.0...</td>\n",
       "      <td>Tuesday</td>\n",
       "      <td>11</td>\n",
       "      <td>12</td>\n",
       "      <td>00:01:00</td>\n",
       "      <td>60.0</td>\n",
       "    </tr>\n",
       "    <tr>\n",
       "      <th>3438</th>\n",
       "      <td>16533965</td>\n",
       "      <td>60</td>\n",
       "      <td>2016-12-22 17:13:00</td>\n",
       "      <td>2016-12-22 17:14:00</td>\n",
       "      <td>3056</td>\n",
       "      <td>34.037460</td>\n",
       "      <td>-118.265381</td>\n",
       "      <td>3047</td>\n",
       "      <td>34.039982</td>\n",
       "      <td>-118.266403</td>\n",
       "      <td>...</td>\n",
       "      <td>30.0</td>\n",
       "      <td>One Way</td>\n",
       "      <td>Monthly Pass</td>\n",
       "      <td>{'longitude': '-118.265381', 'latitude': '34.0...</td>\n",
       "      <td>{'longitude': '-118.266403', 'latitude': '34.0...</td>\n",
       "      <td>Thursday</td>\n",
       "      <td>17</td>\n",
       "      <td>17</td>\n",
       "      <td>00:01:00</td>\n",
       "      <td>60.0</td>\n",
       "    </tr>\n",
       "    <tr>\n",
       "      <th>...</th>\n",
       "      <td>...</td>\n",
       "      <td>...</td>\n",
       "      <td>...</td>\n",
       "      <td>...</td>\n",
       "      <td>...</td>\n",
       "      <td>...</td>\n",
       "      <td>...</td>\n",
       "      <td>...</td>\n",
       "      <td>...</td>\n",
       "      <td>...</td>\n",
       "      <td>...</td>\n",
       "      <td>...</td>\n",
       "      <td>...</td>\n",
       "      <td>...</td>\n",
       "      <td>...</td>\n",
       "      <td>...</td>\n",
       "      <td>...</td>\n",
       "      <td>...</td>\n",
       "      <td>...</td>\n",
       "      <td>...</td>\n",
       "      <td>...</td>\n",
       "    </tr>\n",
       "    <tr>\n",
       "      <th>76226</th>\n",
       "      <td>15661164</td>\n",
       "      <td>60</td>\n",
       "      <td>2016-12-11 01:25:00</td>\n",
       "      <td>2016-12-11 01:26:00</td>\n",
       "      <td>3016</td>\n",
       "      <td>34.052898</td>\n",
       "      <td>-118.241562</td>\n",
       "      <td>3030</td>\n",
       "      <td>34.051941</td>\n",
       "      <td>-118.243530</td>\n",
       "      <td>...</td>\n",
       "      <td>30.0</td>\n",
       "      <td>One Way</td>\n",
       "      <td>Monthly Pass</td>\n",
       "      <td>{'longitude': '-118.241562', 'latitude': '34.0...</td>\n",
       "      <td>{'longitude': '-118.24353', 'latitude': '34.05...</td>\n",
       "      <td>Sunday</td>\n",
       "      <td>1</td>\n",
       "      <td>1</td>\n",
       "      <td>00:01:00</td>\n",
       "      <td>60.0</td>\n",
       "    </tr>\n",
       "    <tr>\n",
       "      <th>76456</th>\n",
       "      <td>11369691</td>\n",
       "      <td>60</td>\n",
       "      <td>2016-10-26 07:07:00</td>\n",
       "      <td>2016-10-26 07:08:00</td>\n",
       "      <td>3055</td>\n",
       "      <td>34.044159</td>\n",
       "      <td>-118.251579</td>\n",
       "      <td>3055</td>\n",
       "      <td>34.044159</td>\n",
       "      <td>-118.251579</td>\n",
       "      <td>...</td>\n",
       "      <td>30.0</td>\n",
       "      <td>Round Trip</td>\n",
       "      <td>Monthly Pass</td>\n",
       "      <td>{'longitude': '-118.251579', 'latitude': '34.0...</td>\n",
       "      <td>{'longitude': '-118.251579', 'latitude': '34.0...</td>\n",
       "      <td>Wednesday</td>\n",
       "      <td>7</td>\n",
       "      <td>7</td>\n",
       "      <td>00:01:00</td>\n",
       "      <td>60.0</td>\n",
       "    </tr>\n",
       "    <tr>\n",
       "      <th>76488</th>\n",
       "      <td>10098199</td>\n",
       "      <td>60</td>\n",
       "      <td>2016-10-15 13:54:00</td>\n",
       "      <td>2016-10-15 13:55:00</td>\n",
       "      <td>3074</td>\n",
       "      <td>34.044170</td>\n",
       "      <td>-118.261169</td>\n",
       "      <td>3034</td>\n",
       "      <td>34.042061</td>\n",
       "      <td>-118.263382</td>\n",
       "      <td>...</td>\n",
       "      <td>30.0</td>\n",
       "      <td>One Way</td>\n",
       "      <td>Monthly Pass</td>\n",
       "      <td>{'longitude': '-118.261169', 'latitude': '34.0...</td>\n",
       "      <td>{'longitude': '-118.263382', 'latitude': '34.0...</td>\n",
       "      <td>Saturday</td>\n",
       "      <td>13</td>\n",
       "      <td>13</td>\n",
       "      <td>00:01:00</td>\n",
       "      <td>60.0</td>\n",
       "    </tr>\n",
       "    <tr>\n",
       "      <th>76760</th>\n",
       "      <td>8554496</td>\n",
       "      <td>60</td>\n",
       "      <td>2016-10-02 15:54:00</td>\n",
       "      <td>2016-10-02 15:55:00</td>\n",
       "      <td>3031</td>\n",
       "      <td>34.044701</td>\n",
       "      <td>-118.252441</td>\n",
       "      <td>3031</td>\n",
       "      <td>34.044701</td>\n",
       "      <td>-118.252441</td>\n",
       "      <td>...</td>\n",
       "      <td>0.0</td>\n",
       "      <td>Round Trip</td>\n",
       "      <td>Walk-up</td>\n",
       "      <td>{'longitude': '-118.252441', 'latitude': '34.0...</td>\n",
       "      <td>{'longitude': '-118.252441', 'latitude': '34.0...</td>\n",
       "      <td>Sunday</td>\n",
       "      <td>15</td>\n",
       "      <td>15</td>\n",
       "      <td>00:01:00</td>\n",
       "      <td>60.0</td>\n",
       "    </tr>\n",
       "    <tr>\n",
       "      <th>77101</th>\n",
       "      <td>9315952</td>\n",
       "      <td>60</td>\n",
       "      <td>2016-10-08 21:01:00</td>\n",
       "      <td>2016-10-08 21:02:00</td>\n",
       "      <td>3082</td>\n",
       "      <td>34.046520</td>\n",
       "      <td>-118.237411</td>\n",
       "      <td>3022</td>\n",
       "      <td>34.046070</td>\n",
       "      <td>-118.233093</td>\n",
       "      <td>...</td>\n",
       "      <td>30.0</td>\n",
       "      <td>One Way</td>\n",
       "      <td>Monthly Pass</td>\n",
       "      <td>{'longitude': '-118.237411', 'latitude': '34.0...</td>\n",
       "      <td>{'longitude': '-118.233093', 'latitude': '34.0...</td>\n",
       "      <td>Saturday</td>\n",
       "      <td>21</td>\n",
       "      <td>21</td>\n",
       "      <td>00:01:00</td>\n",
       "      <td>60.0</td>\n",
       "    </tr>\n",
       "  </tbody>\n",
       "</table>\n",
       "<p>527 rows × 21 columns</p>\n",
       "</div>"
      ],
      "text/plain": [
       "        Trip_ID  Duration          Start_Time            End_Time  \\\n",
       "2415   12998065        60 2016-11-10 21:28:00 2016-11-10 21:29:00   \n",
       "2846   11586730        60 2016-10-28 13:58:00 2016-10-28 13:59:00   \n",
       "3021   15124543        60 2016-12-04 23:32:00 2016-12-04 23:33:00   \n",
       "3386   16385712        60 2016-12-20 11:59:00 2016-12-20 12:00:00   \n",
       "3438   16533965        60 2016-12-22 17:13:00 2016-12-22 17:14:00   \n",
       "...         ...       ...                 ...                 ...   \n",
       "76226  15661164        60 2016-12-11 01:25:00 2016-12-11 01:26:00   \n",
       "76456  11369691        60 2016-10-26 07:07:00 2016-10-26 07:08:00   \n",
       "76488  10098199        60 2016-10-15 13:54:00 2016-10-15 13:55:00   \n",
       "76760   8554496        60 2016-10-02 15:54:00 2016-10-02 15:55:00   \n",
       "77101   9315952        60 2016-10-08 21:01:00 2016-10-08 21:02:00   \n",
       "\n",
       "       Starting_Station_ID  Starting_Station_Latitude  \\\n",
       "2415                  3064                  34.046810   \n",
       "2846                  3064                  34.046810   \n",
       "3021                  3030                  34.051941   \n",
       "3386                  3069                  34.050880   \n",
       "3438                  3056                  34.037460   \n",
       "...                    ...                        ...   \n",
       "76226                 3016                  34.052898   \n",
       "76456                 3055                  34.044159   \n",
       "76488                 3074                  34.044170   \n",
       "76760                 3031                  34.044701   \n",
       "77101                 3082                  34.046520   \n",
       "\n",
       "       Starting_Station_Longitude  Ending_Station_ID  Ending_Station_Latitude  \\\n",
       "2415                  -118.256981               3064                34.046810   \n",
       "2846                  -118.256981               3064                34.046810   \n",
       "3021                  -118.243530               3042                34.049301   \n",
       "3386                  -118.248253               3069                34.050880   \n",
       "3438                  -118.265381               3047                34.039982   \n",
       "...                           ...                ...                      ...   \n",
       "76226                 -118.241562               3030                34.051941   \n",
       "76456                 -118.251579               3055                34.044159   \n",
       "76488                 -118.261169               3034                34.042061   \n",
       "76760                 -118.252441               3031                34.044701   \n",
       "77101                 -118.237411               3022                34.046070   \n",
       "\n",
       "       Ending_Station_Longitude  ...  Plan_Duration  Trip_Route_Category  \\\n",
       "2415                -118.256981  ...            0.0           Round Trip   \n",
       "2846                -118.256981  ...           30.0           Round Trip   \n",
       "3021                -118.238808  ...           30.0              One Way   \n",
       "3386                -118.248253  ...           30.0           Round Trip   \n",
       "3438                -118.266403  ...           30.0              One Way   \n",
       "...                         ...  ...            ...                  ...   \n",
       "76226               -118.243530  ...           30.0              One Way   \n",
       "76456               -118.251579  ...           30.0           Round Trip   \n",
       "76488               -118.263382  ...           30.0              One Way   \n",
       "76760               -118.252441  ...            0.0           Round Trip   \n",
       "77101               -118.233093  ...           30.0              One Way   \n",
       "\n",
       "      Passholder_Type                                  Starting_Lat-Long  \\\n",
       "2415          Walk-up  {'longitude': '-118.256981', 'latitude': '34.0...   \n",
       "2846     Monthly Pass  {'longitude': '-118.256981', 'latitude': '34.0...   \n",
       "3021     Monthly Pass  {'longitude': '-118.24353', 'latitude': '34.05...   \n",
       "3386     Monthly Pass  {'longitude': '-118.248253', 'latitude': '34.0...   \n",
       "3438     Monthly Pass  {'longitude': '-118.265381', 'latitude': '34.0...   \n",
       "...               ...                                                ...   \n",
       "76226    Monthly Pass  {'longitude': '-118.241562', 'latitude': '34.0...   \n",
       "76456    Monthly Pass  {'longitude': '-118.251579', 'latitude': '34.0...   \n",
       "76488    Monthly Pass  {'longitude': '-118.261169', 'latitude': '34.0...   \n",
       "76760         Walk-up  {'longitude': '-118.252441', 'latitude': '34.0...   \n",
       "77101    Monthly Pass  {'longitude': '-118.237411', 'latitude': '34.0...   \n",
       "\n",
       "                                         Ending_Lat-Long    Weekday  \\\n",
       "2415   {'longitude': '-118.256981', 'latitude': '34.0...   Thursday   \n",
       "2846   {'longitude': '-118.256981', 'latitude': '34.0...     Friday   \n",
       "3021   {'longitude': '-118.238808', 'latitude': '34.0...     Sunday   \n",
       "3386   {'longitude': '-118.248253', 'latitude': '34.0...    Tuesday   \n",
       "3438   {'longitude': '-118.266403', 'latitude': '34.0...   Thursday   \n",
       "...                                                  ...        ...   \n",
       "76226  {'longitude': '-118.24353', 'latitude': '34.05...     Sunday   \n",
       "76456  {'longitude': '-118.251579', 'latitude': '34.0...  Wednesday   \n",
       "76488  {'longitude': '-118.263382', 'latitude': '34.0...   Saturday   \n",
       "76760  {'longitude': '-118.252441', 'latitude': '34.0...     Sunday   \n",
       "77101  {'longitude': '-118.233093', 'latitude': '34.0...   Saturday   \n",
       "\n",
       "      Pickup_Window  Drop_Window  Trip_Duration Trip_Duration_Seconds  \n",
       "2415             21           21       00:01:00                  60.0  \n",
       "2846             13           13       00:01:00                  60.0  \n",
       "3021             23           23       00:01:00                  60.0  \n",
       "3386             11           12       00:01:00                  60.0  \n",
       "3438             17           17       00:01:00                  60.0  \n",
       "...             ...          ...            ...                   ...  \n",
       "76226             1            1       00:01:00                  60.0  \n",
       "76456             7            7       00:01:00                  60.0  \n",
       "76488            13           13       00:01:00                  60.0  \n",
       "76760            15           15       00:01:00                  60.0  \n",
       "77101            21           21       00:01:00                  60.0  \n",
       "\n",
       "[527 rows x 21 columns]"
      ]
     },
     "execution_count": 19,
     "metadata": {},
     "output_type": "execute_result"
    }
   ],
   "source": [
    "metro_bike_trip_df.nsmallest(1, ['Trip_Duration_Seconds'], keep = 'all')"
   ]
  },
  {
   "cell_type": "markdown",
   "metadata": {},
   "source": [
    "* ### Popular start station and end station\n"
   ]
  },
  {
   "cell_type": "code",
   "execution_count": 20,
   "metadata": {
    "pycharm": {
     "name": "#%%\n"
    }
   },
   "outputs": [
    {
     "data": {
      "text/plain": [
       "[Text(0, 0.5, 'Count'),\n",
       " Text(0.5, 0, 'Ending Station ID'),\n",
       " Text(0.5, 1.0, 'Comparison of Top 10 Ending Stations')]"
      ]
     },
     "execution_count": 20,
     "metadata": {},
     "output_type": "execute_result"
    },
    {
     "data": {
      "image/png": "[encoded data removed]",
      "text/plain": [
       "<Figure size 1440x864 with 2 Axes>"
      ]
     },
     "metadata": {},
     "output_type": "display_data"
    }
   ],
   "source": [
    "# Prepare data with station counts\n",
    "ss_count = metro_bike_trip_df.groupby(['Starting_Station_ID']).size().to_frame('ss_count')\n",
    "es_count = metro_bike_trip_df.groupby(['Ending_Station_ID']).size().to_frame('es_count')\n",
    "stations_count = pd.merge(ss_count, es_count, right_index=True, left_index=True)\n",
    "stations_count['Station_ID'] = stations_count.index\n",
    "\n",
    "# Set style to whitegrid for better readability\n",
    "sns.set(style=\"whitegrid\", font_scale=1.5)\n",
    "\n",
    "# Plot two countplot with \n",
    "# x axis as Trip Route Category eg, One Way or Round Trip\n",
    "# y axis as count of trips\n",
    "# Plot 1 weekday Trip Route Category\n",
    "# Plot 2 weekday trip count plots\n",
    "fig, (ax1, ax2) = plt.subplots(ncols=2, sharey=True, figsize=(20, 12))\n",
    "\n",
    "# Plot a countplot with \n",
    "# x axis as Weekday \n",
    "# y axis as count of trips per weekday\n",
    "# Trip Route Category eg, One Way or Round Trip\n",
    "sns.barplot(\n",
    "    x = \"Station_ID\",\n",
    "    y = \"ss_count\",\n",
    "    data = stations_count.nlargest(12, [\"ss_count\"], keep = \"all\"),\n",
    "    ax = ax1,\n",
    "    palette = \"winter\").set(\n",
    "        title = 'Comparison of Top 10 Starting Stations', \n",
    "        xlabel = 'Starting Station ID', \n",
    "        ylabel = 'Count')\n",
    "\n",
    "sns.barplot(\n",
    "    x = \"Station_ID\",\n",
    "    y = \"es_count\",\n",
    "    data = stations_count.nlargest(12, [\"es_count\"], keep = \"all\"),\n",
    "    ax = ax2,\n",
    "    palette = \"winter\").set(\n",
    "        title = 'Comparison of Top 10 Ending Stations', \n",
    "        xlabel = 'Ending Station ID', \n",
    "        ylabel = 'Count')"
   ]
  },
  {
   "cell_type": "markdown",
   "metadata": {},
   "source": [
    "> Top pickup station"
   ]
  },
  {
   "cell_type": "code",
   "execution_count": 21,
   "metadata": {
    "pycharm": {
     "name": "#%%\n"
    }
   },
   "outputs": [
    {
     "data": {
      "text/html": [
       "<div>\n",
       "<style scoped>\n",
       "    .dataframe tbody tr th:only-of-type {\n",
       "        vertical-align: middle;\n",
       "    }\n",
       "\n",
       "    .dataframe tbody tr th {\n",
       "        vertical-align: top;\n",
       "    }\n",
       "\n",
       "    .dataframe thead th {\n",
       "        text-align: right;\n",
       "    }\n",
       "</style>\n",
       "<table border=\"1\" class=\"dataframe\">\n",
       "  <thead>\n",
       "    <tr style=\"text-align: right;\">\n",
       "      <th></th>\n",
       "      <th>ss_count</th>\n",
       "      <th>es_count</th>\n",
       "      <th>Station_ID</th>\n",
       "    </tr>\n",
       "    <tr>\n",
       "      <th>Starting_Station_ID</th>\n",
       "      <th></th>\n",
       "      <th></th>\n",
       "      <th></th>\n",
       "    </tr>\n",
       "  </thead>\n",
       "  <tbody>\n",
       "    <tr>\n",
       "      <th>3030</th>\n",
       "      <td>3778</td>\n",
       "      <td>3255</td>\n",
       "      <td>3030</td>\n",
       "    </tr>\n",
       "  </tbody>\n",
       "</table>\n",
       "</div>"
      ],
      "text/plain": [
       "                     ss_count  es_count  Station_ID\n",
       "Starting_Station_ID                                \n",
       "3030                     3778      3255        3030"
      ]
     },
     "execution_count": 21,
     "metadata": {},
     "output_type": "execute_result"
    }
   ],
   "source": [
    "stations_count.nlargest(1, [\"ss_count\"], keep = \"all\")"
   ]
  },
  {
   "cell_type": "markdown",
   "metadata": {},
   "source": [
    "> Top Drop station"
   ]
  },
  {
   "cell_type": "code",
   "execution_count": 22,
   "metadata": {
    "pycharm": {
     "name": "#%%\n"
    }
   },
   "outputs": [
    {
     "data": {
      "text/html": [
       "<div>\n",
       "<style scoped>\n",
       "    .dataframe tbody tr th:only-of-type {\n",
       "        vertical-align: middle;\n",
       "    }\n",
       "\n",
       "    .dataframe tbody tr th {\n",
       "        vertical-align: top;\n",
       "    }\n",
       "\n",
       "    .dataframe thead th {\n",
       "        text-align: right;\n",
       "    }\n",
       "</style>\n",
       "<table border=\"1\" class=\"dataframe\">\n",
       "  <thead>\n",
       "    <tr style=\"text-align: right;\">\n",
       "      <th></th>\n",
       "      <th>ss_count</th>\n",
       "      <th>es_count</th>\n",
       "      <th>Station_ID</th>\n",
       "    </tr>\n",
       "    <tr>\n",
       "      <th>Starting_Station_ID</th>\n",
       "      <th></th>\n",
       "      <th></th>\n",
       "      <th></th>\n",
       "    </tr>\n",
       "  </thead>\n",
       "  <tbody>\n",
       "    <tr>\n",
       "      <th>3005</th>\n",
       "      <td>3613</td>\n",
       "      <td>4615</td>\n",
       "      <td>3005</td>\n",
       "    </tr>\n",
       "  </tbody>\n",
       "</table>\n",
       "</div>"
      ],
      "text/plain": [
       "                     ss_count  es_count  Station_ID\n",
       "Starting_Station_ID                                \n",
       "3005                     3613      4615        3005"
      ]
     },
     "execution_count": 22,
     "metadata": {},
     "output_type": "execute_result"
    }
   ],
   "source": [
    "stations_count.nlargest(1, [\"es_count\"], keep = \"all\")"
   ]
  },
  {
   "cell_type": "markdown",
   "metadata": {},
   "source": [
    "> The above group give us an indication that the station id 3030, 3069 and 3005 are top 3 favorites as a pickup location, while the station 3005, 3014 and 3031 are the top 3 drop locations.  The commonality is 3005 station id that get very heavy traffic of bike pick and drops indication a high churn and demand in that one particular location in addition to the other top stations.\n",
    "\n",
    "> Due to lack of proper station identification, we are not able to provide station names in this analysis."
   ]
  },
  {
   "cell_type": "markdown",
   "metadata": {},
   "source": [
    "* ### Busiest Bike by Times\n",
    "* ### Visual of most used bike based on Number of Trips - WHICH BIKE IS USED THE MOST"
   ]
  },
  {
   "cell_type": "code",
   "execution_count": 27,
   "metadata": {
    "pycharm": {
     "name": "#%%\n"
    }
   },
   "outputs": [
    {
     "data": {
      "text/plain": [
       "[Text(0, 0.5, 'Count'),\n",
       " Text(0.5, 0, 'Starting Station ID'),\n",
       " Text(0.5, 1.0, 'Comparison of Top 10 Starting Stations')]"
      ]
     },
     "execution_count": 27,
     "metadata": {},
     "output_type": "execute_result"
    },
    {
     "data": {
      "image/png": "[encoded data removed]",
      "text/plain": [
       "<Figure size 720x720 with 1 Axes>"
      ]
     },
     "metadata": {},
     "output_type": "display_data"
    }
   ],
   "source": [
    "# Prepare data with station counts\n",
    "bike_count = metro_bike_trip_df.groupby(['Bike_ID']).size().to_frame('bike_count')\n",
    "bike_count['Bike_ID'] = bike_count.index\n",
    "\n",
    "# Set style to whitegrid for better readability\n",
    "sns.set(style=\"whitegrid\", font_scale=1.5)\n",
    "\n",
    "# Plot two countplot with \n",
    "# x axis as Trip Route Category eg, One Way or Round Trip\n",
    "# y axis as count of trips\n",
    "# Plot 1 weekday Trip Route Category\n",
    "# Plot 2 weekday trip count plots\n",
    "fig, (ax1) = plt.subplots(ncols=1, sharey=True, figsize=(10, 10))\n",
    "\n",
    "# Plot a countplot with \n",
    "# x axis as Weekday \n",
    "# y axis as count of trips per weekday\n",
    "# Trip Route Category eg, One Way or Round Trip\n",
    "sns.barplot(\n",
    "    x = \"Bike_ID\",\n",
    "    y = \"bike_count\",\n",
    "    data = bike_count.nlargest(5, [\"bike_count\"], keep = \"all\"),\n",
    "    ax = ax1,\n",
    "    palette = \"Blues\").set(\n",
    "        title = 'Comparison of Top 10 Starting Stations', \n",
    "        xlabel = 'Starting Station ID', \n",
    "        ylabel = 'Count')"
   ]
  },
  {
   "cell_type": "code",
   "execution_count": 24,
   "metadata": {
    "pycharm": {
     "name": "#%%\n"
    }
   },
   "outputs": [
    {
     "data": {
      "text/html": [
       "<div>\n",
       "<style scoped>\n",
       "    .dataframe tbody tr th:only-of-type {\n",
       "        vertical-align: middle;\n",
       "    }\n",
       "\n",
       "    .dataframe tbody tr th {\n",
       "        vertical-align: top;\n",
       "    }\n",
       "\n",
       "    .dataframe thead th {\n",
       "        text-align: right;\n",
       "    }\n",
       "</style>\n",
       "<table border=\"1\" class=\"dataframe\">\n",
       "  <thead>\n",
       "    <tr style=\"text-align: right;\">\n",
       "      <th></th>\n",
       "      <th>bike_count</th>\n",
       "      <th>Bike_ID</th>\n",
       "    </tr>\n",
       "    <tr>\n",
       "      <th>Bike_ID</th>\n",
       "      <th></th>\n",
       "      <th></th>\n",
       "    </tr>\n",
       "  </thead>\n",
       "  <tbody>\n",
       "    <tr>\n",
       "      <th>4727</th>\n",
       "      <td>221</td>\n",
       "      <td>4727</td>\n",
       "    </tr>\n",
       "  </tbody>\n",
       "</table>\n",
       "</div>"
      ],
      "text/plain": [
       "         bike_count  Bike_ID\n",
       "Bike_ID                     \n",
       "4727            221     4727"
      ]
     },
     "execution_count": 24,
     "metadata": {},
     "output_type": "execute_result"
    }
   ],
   "source": [
    "bike_count.nlargest(1, [\"bike_count\"], keep = \"all\")"
   ]
  },
  {
   "cell_type": "markdown",
   "metadata": {},
   "source": [
    "> Based on the top 5 used bikes graph and the above statements, we get to see that 4727 bike id is the most used bike amoung all the other bikes.  This has been used 221 times."
   ]
  },
  {
   "cell_type": "code",
   "execution_count": null,
   "metadata": {
    "pycharm": {
     "name": "#%%\n"
    }
   },
   "outputs": [],
   "source": []
  }
 ],
 "metadata": {
  "kernelspec": {
   "display_name": "Python 3",
   "language": "python",
   "name": "python3"
  },
  "language_info": {
   "codemirror_mode": {
    "name": "ipython",
    "version": 3
   },
   "file_extension": ".py",
   "mimetype": "text/x-python",
   "name": "python",
   "nbconvert_exporter": "python",
   "pygments_lexer": "ipython3",
   "version": "3.7.6"
  },
  "pycharm": {
   "stem_cell": {
    "cell_type": "raw",
    "source": [],
    "metadata": {
     "collapsed": false
    }
   }
  }
 },
 "nbformat": 4,
 "nbformat_minor": 2
}